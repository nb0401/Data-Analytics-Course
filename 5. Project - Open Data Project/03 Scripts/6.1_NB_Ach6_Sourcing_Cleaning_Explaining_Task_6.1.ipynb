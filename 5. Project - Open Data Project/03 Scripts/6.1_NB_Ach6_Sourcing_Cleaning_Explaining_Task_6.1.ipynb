{
 "cells": [
  {
   "cell_type": "markdown",
   "id": "bddfabf4",
   "metadata": {},
   "source": [
    "<h1>\n",
    "    <font color=0000FF>\n",
    "        Using Metabolites in the Wastewater to measure Drug Consumption - Sourcing, Cleaning & Explaining\n",
    "    </font>\n",
    "</h1>\n",
    "<h3>\n",
    "    <font color=89CFF0>\n",
    "        An Open Source Data Project using Data from the European Monitoring Centre for Drugs and Drug Addiction (EMCDDA) and the SCORE network\n",
    "    </font>\n",
    "</h3>      \n"
   ]
  },
  {
   "cell_type": "markdown",
   "id": "7353e142",
   "metadata": {},
   "source": [
    "<img src=\"https://cdn.pixabay.com/photo/2017/10/07/16/27/treatment-plant-wastewater-2826990_960_720.jpg\">\n",
    "Picture taken from <a href=\"https://pixabay.com/de/photos/die-kl%c3%a4ranlage-abwasser-kl%c3%a4ranlage-2826990/\">Pixabay</a>, from the user <a href=\"https://pixabay.com/de/users/jarmoluk-143740/\">\"jarmoluk\"</a>."
   ]
  },
  {
   "cell_type": "markdown",
   "id": "7e7956be",
   "metadata": {},
   "source": [
    "<h2>\n",
    "    <font color=0096FF>\n",
    "        Content & Structure<a id='start'></a>\n",
    "    </font>\n",
    "</h2>\n",
    "<h3>\n",
    "    <font color=0096FF>\n",
    "        <p>\n",
    "            <a href='#first_chapter'>1. Data Source, Data Collection & Data Limitations</a>         \n",
    "        <p>\n",
    "            <a href='#second_chapter'>2. Data Profile</a>\n",
    "        <p>\n",
    "            <a href='#third_chapter'>3. Data Cleaning</a> & <a href='#basicstatistic'>Basic Statistical Analysis</a>\n",
    "        <p>\n",
    "            <a href='#fourth_chapter'>4. Questions to Lead the Analysis</a>\n",
    "    </font>\n",
    "</h3>  "
   ]
  },
  {
   "cell_type": "markdown",
   "id": "9cdc0fb6",
   "metadata": {},
   "source": [
    "<h3>\n",
    "    <font color=0096FF>\n",
    "        Summary\n",
    "    </font>\n",
    "</h3>\n",
    "<p>\n",
    "    The <a href=\"https://www.emcdda.europa.eu/emcdda-home-page_en\">European Monitoring Centre for Drugs and Drug Addiction (EMCDDA)</a> is the leading institution studying the drug usage and spreading information about drug addiction in Europe. The <a href=\"https://www.emcdda.europa.eu/about\">EMCDDA</a> works to support the EU and its nations in policymaking to protect its citizens from drug-related harms. In cooperation with the <a href=\"https://score-network.eu/\">SCORE network</a>, which is a network of wastewater-based epidemiology experts, the organizations collected data of the wastewaters of major EU cities to research the drug usage of the citizens.\n",
    "<p>\n",
    "    In this analysis we will explore the dataset published by the SCORE network and the EMCDDA to gain insights about the use of amphetamine, cannabis, cocaine, MDMA, and methamphetamine."
   ]
  },
  {
   "cell_type": "markdown",
   "id": "fac4ca26",
   "metadata": {},
   "source": [
    "\n",
    "<h2>\n",
    "    <font color=0096FF>\n",
    "        <a href='#start'>1. Data Source, Data Collection & Data Limitations</a><a id='first_chapter'></a>\n",
    "    </font>\n",
    "</h2>\n",
    "<p>\n",
    "    The two datasets, <a href=\"https://www.emcdda.europa.eu/publications/html/pods/waste-water-analysis_en\">published by the EMCDDA (click here)</a>, used in this analysis contain information about the city/station the wastewater was measured, the results, and the drug the water was tested on. Furthermore the <a href=\"https://www.emcdda.europa.eu/data/stats2022_en\">EMCDDA provides additional information related to drug usage, the treatment, the diseases and deaths related to the drugs, and more.</a> <i>The analysis might include further datasets from this source in the future.</i>\n",
    "<p>\n",
    "    <h4>\n",
    "        <font color=0096FF>\n",
    "            Data Collection\n",
    "        </font>\n",
    "    </h4>\n",
    "<p>\n",
    "    The data is collected by the SCORE network which coordinates an annual campaign to collect samples throughout one whole week during March or April. The time period is chosen to be as representative as possible of a normal week. Currently 143 wastewater plants in 120 cities from 37 countries participate in the campaigns. After the collection process, the samples will be evaluated and the results published. The EMCDDA includes the results in the yearly European Drug Report.\n",
    "<p>\n",
    "    <h4>\n",
    "        <font color=0096FF>\n",
    "            Data Limitations\n",
    "        </font>\n",
    "    </h4>\n",
    "<p>\n",
    "    <ul>\n",
    "        <li>\n",
    "            There are multiple measurements throughout certain countries, the measurement site has an ID and also a nominal variable mentioning the city. However, some cities have multiple measurement stations.\n",
    "        </li>\n",
    "        <li>\n",
    "            At some stations there are missing values throughout the week. Furthermore, some stations have throughout the week zero results of any drug-related contamination - this is a sign for below limit of quantification results.\n",
    "        </li>\n",
    "        <li>\n",
    "            As mentioned earlier, there are additional datasets containing additional information. However, these datasets are based on the countries and not the cities. In conclusion, a connection between the city consumption of drugs and the impact on the countries is rather inaccurate.\n",
    "        </li>\n",
    "        <li>\n",
    "            Concerns in terms of data privacy are irrelevant, since the data is linked to cities and not linked to individuals. In contrast, this gives a more revealing insight on the consumption, because the alternative of questioning a sample sized proportion of the citizens depends on their honesty. The measuring of the wastewater gives a cleaner insight, because the wastewater data is harder to distort.\n",
    "        </li>\n",
    "    </ul>\n",
    "<p>"
   ]
  },
  {
   "cell_type": "markdown",
   "id": "182a4fac",
   "metadata": {},
   "source": [
    "<h2>\n",
    "    <font color=0096FF>\n",
    "        <a href='#start'>2. Data Profile</a><a id='second_chapter'></a>\n",
    "    </font>\n",
    "</h2>\n",
    "<p>\n",
    "    First, the data profiles from both datasets will be explained. Afterwards the merge and the cleaning will be conducted.\n",
    "<p>\n",
    "    <b>The measurement station dataset:</b>\n",
    "<p>\n",
    "<table>\n",
    "    <tr>\n",
    "        <td><b>Column</b></td>\n",
    "        <td><b>Column description</b></td>\n",
    "        <td><b>Structured?</b></td>\n",
    "        <td><b>Datatype?</b></td>\n",
    "        <td><b>Time variant?</b></td>\n",
    "    </tr>\n",
    "    <tr>\n",
    "        <td>SiteID</td>\n",
    "        <td>The identifier of the measurement station</td>\n",
    "        <td>Yes</td>\n",
    "        <td>Qualitative, nominal & ordinal *</td>\n",
    "        <td>No</td>\n",
    "    </tr>\n",
    "    <tr>\n",
    "        <td>country</td>\n",
    "        <td>The countries ISO 3166 ALPHA-2 code</td>\n",
    "        <td>Yes</td>\n",
    "        <td>Qualitative, nominal</td>\n",
    "        <td>No</td>\n",
    "    </tr>\n",
    "    <tr>\n",
    "        <td>city</td>\n",
    "        <td>The measurement site's city</td>\n",
    "        <td>Yes</td>\n",
    "        <td>Qualitative, nominal</td>\n",
    "        <td>No</td>\n",
    "    </tr>\n",
    "    <tr>\n",
    "        <td>location</td>\n",
    "        <td>The specific location/district of the measurement site inside the city</td>\n",
    "        <td>Yes</td>\n",
    "        <td>Qualitative, nominal</td>\n",
    "        <td>No</td>\n",
    "    </tr>\n",
    "    <tr>\n",
    "        <td>latitude</td>\n",
    "        <td>Geographical coordinate of the measurement site</td>\n",
    "        <td>Yes</td>\n",
    "        <td>Quantitative, continuous</td>\n",
    "        <td>No</td>\n",
    "    </tr>\n",
    "    <tr>\n",
    "        <td>longitude</td>\n",
    "        <td>Geographical coordinate of the measurement site</td>\n",
    "        <td>Yes</td>\n",
    "        <td>Quantiative, continuous</td>\n",
    "        <td>No</td>\n",
    "    </tr>\n",
    "    <tr>\n",
    "        <td>population</td>\n",
    "        <td>The population of the city - but it's the current (2021) population</td>\n",
    "        <td>Yes</td>\n",
    "        <td>Quantiative, discrete</td>\n",
    "        <td>No **</td>\n",
    "    </tr>\n",
    "    <tr>\n",
    "        <td>instituation</td>\n",
    "        <td>The name of the instituation the measurement site belongs to</td>\n",
    "        <td>Yes</td>\n",
    "        <td>Qualitative, nominal</td>\n",
    "        <td>No</td>\n",
    "    </tr>\n",
    "    <tr>\n",
    "        <td>website</td>\n",
    "        <td>The website of the institution</td>\n",
    "        <td>Yes</td>\n",
    "        <td>Qualitative, nominal</td>\n",
    "        <td>No</td>\n",
    "    </tr>\n",
    "</table>\n",
    "<i>* The multiple sites inside a country have an ordinal ranking, but since the IDs of the sites depend on the country it is in, the country ID itself has no order.</i>\n",
    "<br>\n",
    "<i>** The population would normally be time variant (because the wastewater data has the time period 2011-2021), but in this case it's always the same population, based of the 2021 data.</i>\n",
    "<p>\n",
    "    <b>The measurement dataset:</b>\n",
    "<table>\n",
    "    <tr>\n",
    "        <td><b>Column</b></td>\n",
    "        <td><b>Column description</b></td>\n",
    "        <td><b>Structured?</b></td>\n",
    "        <td><b>Datatype?</b></td>\n",
    "        <td><b>Time variant?</b></td>\n",
    "    </tr>\n",
    "    <tr>\n",
    "        <td>year</td>\n",
    "        <td>The year of the specific measurement</td>\n",
    "        <td>Yes</td>\n",
    "        <td>Quantitative, discrete</td>\n",
    "        <td>Yes</td>\n",
    "    </tr>\n",
    "    <tr>\n",
    "        <td>metabolite</td>\n",
    "        <td>The sort of drug the sample was tested on</td>\n",
    "        <td>Yes</td>\n",
    "        <td>Qualitative, nominal</td>\n",
    "        <td>No</td>\n",
    "    </tr>\n",
    "    <tr>\n",
    "        <td>SiteID</td>\n",
    "        <td>The identifier of the measurement station</td>\n",
    "        <td>Yes</td>\n",
    "        <td>Qualitative, nominal & ordinal *</td>\n",
    "        <td>No</td>\n",
    "    </tr>\n",
    "    <tr>\n",
    "        <td>country</td>\n",
    "        <td>The countries ISO 3166 ALPHA-2 code</td>\n",
    "        <td>Yes</td>\n",
    "        <td>Qualitative, nominal</td>\n",
    "        <td>No</td>\n",
    "    </tr>\n",
    "    <tr>\n",
    "        <td>city</td>\n",
    "        <td>The measurement site's city</td>\n",
    "        <td>Yes</td>\n",
    "        <td>Qualitative, nominal</td>\n",
    "        <td>No</td>\n",
    "    </tr>\n",
    "    <tr>\n",
    "        <td>Wednesday</td>\n",
    "        <td>The result of the measurement of Wednesday</td>\n",
    "        <td>Yes</td>\n",
    "        <td>Quantitative, continuous</td>\n",
    "        <td>Yes</td>\n",
    "    </tr>\n",
    "    <tr>\n",
    "        <td>Thursday</td>\n",
    "        <td>The result of the measurement of Thursday</td>\n",
    "        <td>Yes</td>\n",
    "        <td>Quantitative, continuous</td>\n",
    "        <td>Yes</td>\n",
    "    </tr>\n",
    "    <tr>\n",
    "        <td>Friday</td>\n",
    "        <td>The result of the measurement of Friday</td>\n",
    "        <td>Yes</td>\n",
    "        <td>Quantitative, continuous</td>\n",
    "        <td>Yes</td>\n",
    "    </tr>\n",
    "    <tr>\n",
    "        <td>Saturday</td>\n",
    "        <td>The result of the measurement of Saturday</td>\n",
    "        <td>Yes</td>\n",
    "        <td>Quantitative, continuous</td>\n",
    "        <td>Yes</td>\n",
    "    </tr>\n",
    "    <tr>\n",
    "        <td>Sunday</td>\n",
    "        <td>The result of the measurement of Sunday</td>\n",
    "        <td>Yes</td>\n",
    "        <td>Quantitative, continuous</td>\n",
    "        <td>Yes</td>\n",
    "    </tr>\n",
    "    <tr>\n",
    "        <td>Monday</td>\n",
    "        <td>The result of the measurement of Monday</td>\n",
    "        <td>Yes</td>\n",
    "        <td>Quantitative, continuous</td>\n",
    "        <td>Yes</td>\n",
    "    </tr>\n",
    "    <tr>\n",
    "        <td>Tuesday</td>\n",
    "        <td>The result of the measurement of Tuesday</td>\n",
    "        <td>Yes</td>\n",
    "        <td>Quantitative, continuous</td>\n",
    "        <td>Yes</td>\n",
    "    </tr>\n",
    "    <tr>\n",
    "        <td>Weekday mean</td>\n",
    "        <td>The weekday mean of the measurements</td>\n",
    "        <td>Yes</td>\n",
    "        <td>Quantitative, continuous</td>\n",
    "        <td>Yes</td>\n",
    "    </tr>\n",
    "    <tr>\n",
    "        <td>Weekend mean</td>\n",
    "        <td>The weekend mean of the measurements</td>\n",
    "        <td>Yes</td>\n",
    "        <td>Quantitative, continuous</td>\n",
    "        <td>Yes</td>\n",
    "    </tr>\n",
    "    <tr>\n",
    "        <td>Daily mean</td>\n",
    "        <td>The mean of the measurements throughout the week</td>\n",
    "        <td>Yes</td>\n",
    "        <td>Quantitative, continuous</td>\n",
    "        <td>Yes</td>\n",
    "    </tr>\n",
    "</table>\n",
    "<i>* The multiple sites inside a country have an ordinal ranking, but since the IDs of the sites depend on the country it is in, the country ID itself has no order.</i>\n",
    "<p>\n",
    "    <font color=FF0000>\n",
    "        <b>Please note, that all measurements are in mg consumed per 1000 persons per day or in short mg/1000p/day.</b>\n",
    "    </font>\n"
   ]
  },
  {
   "cell_type": "markdown",
   "id": "3bbd6978",
   "metadata": {},
   "source": [
    "<h2>\n",
    "    <font color=0096FF>\n",
    "        <a href='#start'>3. Data Cleaning</a> & <a href='#basicstatistic'>Basic Statistical Analysis</a><a id='third_chapter'></a>\n",
    "    </font>\n",
    "</h2>"
   ]
  },
  {
   "cell_type": "markdown",
   "id": "059c04e5",
   "metadata": {},
   "source": [
    "<p>\n",
    "    First, the datasets will be imported, then cleaned, and afterwards merged."
   ]
  },
  {
   "cell_type": "code",
   "execution_count": 1,
   "id": "0caef961",
   "metadata": {},
   "outputs": [],
   "source": [
    "# Importing libraries\n",
    "\n",
    "import pandas as pd\n",
    "import numpy as np\n",
    "import seaborn as sns\n",
    "import matplotlib.pyplot as plt\n",
    "import matplotlib\n",
    "import os\n",
    "from IPython.core.interactiveshell import InteractiveShell"
   ]
  },
  {
   "cell_type": "code",
   "execution_count": 2,
   "id": "066a73bc",
   "metadata": {},
   "outputs": [],
   "source": [
    "# Setting up options\n",
    "\n",
    "pd.set_option(\"display.max_columns\", None)\n",
    "pd.set_option(\"display.max_rows\", None)\n",
    "InteractiveShell.ast_node_interactivity = 'all'"
   ]
  },
  {
   "cell_type": "code",
   "execution_count": 3,
   "id": "e7e4ea08",
   "metadata": {},
   "outputs": [],
   "source": [
    "# Setting the path for import and export of data\n",
    "\n",
    "path = r'X:\\Data_Analytic\\JUPYTER\\Achievement 6'"
   ]
  },
  {
   "cell_type": "code",
   "execution_count": 4,
   "id": "92debf9b",
   "metadata": {},
   "outputs": [],
   "source": [
    "# Importing both dataframes\n",
    "\n",
    "df_measure = pd.read_csv(os.path.join(path,'02 Data','01 Original Data','Measurement_Data.csv'))\n",
    "\n",
    "df_sites = pd.read_csv(os.path.join(path,'02 Data','01 Original Data','Site_Data.csv'))"
   ]
  },
  {
   "cell_type": "code",
   "execution_count": 5,
   "id": "dfdeb791",
   "metadata": {},
   "outputs": [
    {
     "name": "stdout",
     "output_type": "stream",
     "text": [
      "df_measure (2569, 15)\n",
      "df_sites (144, 9)\n"
     ]
    }
   ],
   "source": [
    "# Checking size of dfs\n",
    "\n",
    "print('df_measure',df_measure.shape)\n",
    "print('df_sites',df_sites.shape)"
   ]
  },
  {
   "cell_type": "code",
   "execution_count": 6,
   "id": "bda98838",
   "metadata": {},
   "outputs": [
    {
     "name": "stdout",
     "output_type": "stream",
     "text": [
      "df_measure:\n"
     ]
    },
    {
     "data": {
      "text/html": [
       "<div>\n",
       "<style scoped>\n",
       "    .dataframe tbody tr th:only-of-type {\n",
       "        vertical-align: middle;\n",
       "    }\n",
       "\n",
       "    .dataframe tbody tr th {\n",
       "        vertical-align: top;\n",
       "    }\n",
       "\n",
       "    .dataframe thead th {\n",
       "        text-align: right;\n",
       "    }\n",
       "</style>\n",
       "<table border=\"1\" class=\"dataframe\">\n",
       "  <thead>\n",
       "    <tr style=\"text-align: right;\">\n",
       "      <th></th>\n",
       "      <th>year</th>\n",
       "      <th>metabolite</th>\n",
       "      <th>SiteID</th>\n",
       "      <th>country</th>\n",
       "      <th>city</th>\n",
       "      <th>Wednesday</th>\n",
       "      <th>Thursday</th>\n",
       "      <th>Friday</th>\n",
       "      <th>Saturday</th>\n",
       "      <th>Sunday</th>\n",
       "      <th>Monday</th>\n",
       "      <th>Tuesday</th>\n",
       "      <th>Weekday mean</th>\n",
       "      <th>Weekend mean</th>\n",
       "      <th>Daily mean</th>\n",
       "    </tr>\n",
       "  </thead>\n",
       "  <tbody>\n",
       "    <tr>\n",
       "      <th>0</th>\n",
       "      <td>2021</td>\n",
       "      <td>amphetamine</td>\n",
       "      <td>AT001</td>\n",
       "      <td>AT</td>\n",
       "      <td>Graz</td>\n",
       "      <td>47.15</td>\n",
       "      <td>37.48</td>\n",
       "      <td>37.95</td>\n",
       "      <td>38.02</td>\n",
       "      <td>38.14</td>\n",
       "      <td>35.82</td>\n",
       "      <td>35.45</td>\n",
       "      <td>40.03</td>\n",
       "      <td>37.48</td>\n",
       "      <td>38.57</td>\n",
       "    </tr>\n",
       "    <tr>\n",
       "      <th>1</th>\n",
       "      <td>2021</td>\n",
       "      <td>amphetamine</td>\n",
       "      <td>AT002</td>\n",
       "      <td>AT</td>\n",
       "      <td>Hall-Wattens</td>\n",
       "      <td>8.37</td>\n",
       "      <td>7.08</td>\n",
       "      <td>6.88</td>\n",
       "      <td>4.25</td>\n",
       "      <td>6.17</td>\n",
       "      <td>8.25</td>\n",
       "      <td>7.77</td>\n",
       "      <td>7.74</td>\n",
       "      <td>6.39</td>\n",
       "      <td>6.97</td>\n",
       "    </tr>\n",
       "    <tr>\n",
       "      <th>2</th>\n",
       "      <td>2021</td>\n",
       "      <td>amphetamine</td>\n",
       "      <td>AT004</td>\n",
       "      <td>AT</td>\n",
       "      <td>Innsbruck</td>\n",
       "      <td>16.59</td>\n",
       "      <td>16.72</td>\n",
       "      <td>17.60</td>\n",
       "      <td>24.92</td>\n",
       "      <td>29.69</td>\n",
       "      <td>22.38</td>\n",
       "      <td>26.24</td>\n",
       "      <td>19.85</td>\n",
       "      <td>23.65</td>\n",
       "      <td>22.02</td>\n",
       "    </tr>\n",
       "    <tr>\n",
       "      <th>3</th>\n",
       "      <td>2021</td>\n",
       "      <td>amphetamine</td>\n",
       "      <td>AT005</td>\n",
       "      <td>AT</td>\n",
       "      <td>Kapfenberg</td>\n",
       "      <td>25.01</td>\n",
       "      <td>24.11</td>\n",
       "      <td>30.52</td>\n",
       "      <td>31.85</td>\n",
       "      <td>36.75</td>\n",
       "      <td>35.58</td>\n",
       "      <td>22.43</td>\n",
       "      <td>23.85</td>\n",
       "      <td>33.68</td>\n",
       "      <td>29.46</td>\n",
       "    </tr>\n",
       "    <tr>\n",
       "      <th>4</th>\n",
       "      <td>2021</td>\n",
       "      <td>amphetamine</td>\n",
       "      <td>AT007</td>\n",
       "      <td>AT</td>\n",
       "      <td>Kufstein</td>\n",
       "      <td>24.24</td>\n",
       "      <td>16.19</td>\n",
       "      <td>19.70</td>\n",
       "      <td>10.93</td>\n",
       "      <td>22.68</td>\n",
       "      <td>20.69</td>\n",
       "      <td>24.18</td>\n",
       "      <td>21.54</td>\n",
       "      <td>18.50</td>\n",
       "      <td>19.80</td>\n",
       "    </tr>\n",
       "  </tbody>\n",
       "</table>\n",
       "</div>"
      ],
      "text/plain": [
       "   year   metabolite SiteID country          city  Wednesday  Thursday  \\\n",
       "0  2021  amphetamine  AT001      AT          Graz      47.15     37.48   \n",
       "1  2021  amphetamine  AT002      AT  Hall-Wattens       8.37      7.08   \n",
       "2  2021  amphetamine  AT004      AT     Innsbruck      16.59     16.72   \n",
       "3  2021  amphetamine  AT005      AT    Kapfenberg      25.01     24.11   \n",
       "4  2021  amphetamine  AT007      AT      Kufstein      24.24     16.19   \n",
       "\n",
       "   Friday  Saturday  Sunday  Monday  Tuesday  Weekday mean  Weekend mean  \\\n",
       "0   37.95     38.02   38.14   35.82    35.45         40.03         37.48   \n",
       "1    6.88      4.25    6.17    8.25     7.77          7.74          6.39   \n",
       "2   17.60     24.92   29.69   22.38    26.24         19.85         23.65   \n",
       "3   30.52     31.85   36.75   35.58    22.43         23.85         33.68   \n",
       "4   19.70     10.93   22.68   20.69    24.18         21.54         18.50   \n",
       "\n",
       "   Daily mean  \n",
       "0       38.57  \n",
       "1        6.97  \n",
       "2       22.02  \n",
       "3       29.46  \n",
       "4       19.80  "
      ]
     },
     "execution_count": 6,
     "metadata": {},
     "output_type": "execute_result"
    },
    {
     "name": "stdout",
     "output_type": "stream",
     "text": [
      "<class 'pandas.core.frame.DataFrame'>\n",
      "RangeIndex: 2569 entries, 0 to 2568\n",
      "Data columns (total 15 columns):\n",
      " #   Column        Non-Null Count  Dtype  \n",
      "---  ------        --------------  -----  \n",
      " 0   year          2569 non-null   int64  \n",
      " 1   metabolite    2569 non-null   object \n",
      " 2   SiteID        2569 non-null   object \n",
      " 3   country       2569 non-null   object \n",
      " 4   city          2569 non-null   object \n",
      " 5   Wednesday     2551 non-null   float64\n",
      " 6   Thursday      2523 non-null   float64\n",
      " 7   Friday        2537 non-null   float64\n",
      " 8   Saturday      2546 non-null   float64\n",
      " 9   Sunday        2533 non-null   float64\n",
      " 10  Monday        2533 non-null   float64\n",
      " 11  Tuesday       2535 non-null   float64\n",
      " 12  Weekday mean  2568 non-null   float64\n",
      " 13  Weekend mean  2569 non-null   float64\n",
      " 14  Daily mean    2569 non-null   float64\n",
      "dtypes: float64(10), int64(1), object(4)\n",
      "memory usage: 301.2+ KB\n"
     ]
    },
    {
     "data": {
      "text/html": [
       "<div>\n",
       "<style scoped>\n",
       "    .dataframe tbody tr th:only-of-type {\n",
       "        vertical-align: middle;\n",
       "    }\n",
       "\n",
       "    .dataframe tbody tr th {\n",
       "        vertical-align: top;\n",
       "    }\n",
       "\n",
       "    .dataframe thead th {\n",
       "        text-align: right;\n",
       "    }\n",
       "</style>\n",
       "<table border=\"1\" class=\"dataframe\">\n",
       "  <thead>\n",
       "    <tr style=\"text-align: right;\">\n",
       "      <th></th>\n",
       "      <th>count</th>\n",
       "      <th>mean</th>\n",
       "      <th>std</th>\n",
       "      <th>min</th>\n",
       "      <th>25%</th>\n",
       "      <th>50%</th>\n",
       "      <th>75%</th>\n",
       "      <th>max</th>\n",
       "    </tr>\n",
       "  </thead>\n",
       "  <tbody>\n",
       "    <tr>\n",
       "      <th>year</th>\n",
       "      <td>2569.0</td>\n",
       "      <td>2017.302452</td>\n",
       "      <td>2.860870</td>\n",
       "      <td>2011.0</td>\n",
       "      <td>2015.0000</td>\n",
       "      <td>2018.000</td>\n",
       "      <td>2020.0000</td>\n",
       "      <td>2021.00</td>\n",
       "    </tr>\n",
       "    <tr>\n",
       "      <th>Wednesday</th>\n",
       "      <td>2551.0</td>\n",
       "      <td>78.992301</td>\n",
       "      <td>141.770603</td>\n",
       "      <td>0.0</td>\n",
       "      <td>4.3600</td>\n",
       "      <td>19.430</td>\n",
       "      <td>82.6450</td>\n",
       "      <td>1423.91</td>\n",
       "    </tr>\n",
       "    <tr>\n",
       "      <th>Thursday</th>\n",
       "      <td>2523.0</td>\n",
       "      <td>80.713781</td>\n",
       "      <td>146.829923</td>\n",
       "      <td>0.0</td>\n",
       "      <td>4.0600</td>\n",
       "      <td>18.450</td>\n",
       "      <td>82.9800</td>\n",
       "      <td>1556.20</td>\n",
       "    </tr>\n",
       "    <tr>\n",
       "      <th>Friday</th>\n",
       "      <td>2537.0</td>\n",
       "      <td>87.122803</td>\n",
       "      <td>157.248813</td>\n",
       "      <td>0.0</td>\n",
       "      <td>4.4000</td>\n",
       "      <td>20.890</td>\n",
       "      <td>89.9600</td>\n",
       "      <td>1594.08</td>\n",
       "    </tr>\n",
       "    <tr>\n",
       "      <th>Saturday</th>\n",
       "      <td>2546.0</td>\n",
       "      <td>104.187133</td>\n",
       "      <td>187.438838</td>\n",
       "      <td>0.0</td>\n",
       "      <td>6.3200</td>\n",
       "      <td>31.290</td>\n",
       "      <td>101.6800</td>\n",
       "      <td>1806.01</td>\n",
       "    </tr>\n",
       "    <tr>\n",
       "      <th>Sunday</th>\n",
       "      <td>2533.0</td>\n",
       "      <td>109.720904</td>\n",
       "      <td>198.120029</td>\n",
       "      <td>0.0</td>\n",
       "      <td>6.9700</td>\n",
       "      <td>35.130</td>\n",
       "      <td>110.8500</td>\n",
       "      <td>2090.15</td>\n",
       "    </tr>\n",
       "    <tr>\n",
       "      <th>Monday</th>\n",
       "      <td>2533.0</td>\n",
       "      <td>89.065898</td>\n",
       "      <td>156.694279</td>\n",
       "      <td>0.0</td>\n",
       "      <td>6.1600</td>\n",
       "      <td>27.860</td>\n",
       "      <td>93.1400</td>\n",
       "      <td>1770.91</td>\n",
       "    </tr>\n",
       "    <tr>\n",
       "      <th>Tuesday</th>\n",
       "      <td>2535.0</td>\n",
       "      <td>83.962276</td>\n",
       "      <td>166.977673</td>\n",
       "      <td>0.0</td>\n",
       "      <td>5.1400</td>\n",
       "      <td>21.880</td>\n",
       "      <td>87.4600</td>\n",
       "      <td>3932.49</td>\n",
       "    </tr>\n",
       "    <tr>\n",
       "      <th>Weekday mean</th>\n",
       "      <td>2568.0</td>\n",
       "      <td>81.199607</td>\n",
       "      <td>146.737828</td>\n",
       "      <td>0.0</td>\n",
       "      <td>4.7825</td>\n",
       "      <td>20.205</td>\n",
       "      <td>85.5425</td>\n",
       "      <td>1945.78</td>\n",
       "    </tr>\n",
       "    <tr>\n",
       "      <th>Weekend mean</th>\n",
       "      <td>2569.0</td>\n",
       "      <td>97.929260</td>\n",
       "      <td>172.108124</td>\n",
       "      <td>0.0</td>\n",
       "      <td>6.5000</td>\n",
       "      <td>30.340</td>\n",
       "      <td>99.7400</td>\n",
       "      <td>1700.55</td>\n",
       "    </tr>\n",
       "    <tr>\n",
       "      <th>Daily mean</th>\n",
       "      <td>2569.0</td>\n",
       "      <td>90.689000</td>\n",
       "      <td>158.996037</td>\n",
       "      <td>0.0</td>\n",
       "      <td>6.3100</td>\n",
       "      <td>26.510</td>\n",
       "      <td>92.5300</td>\n",
       "      <td>1581.88</td>\n",
       "    </tr>\n",
       "  </tbody>\n",
       "</table>\n",
       "</div>"
      ],
      "text/plain": [
       "               count         mean         std     min        25%       50%  \\\n",
       "year          2569.0  2017.302452    2.860870  2011.0  2015.0000  2018.000   \n",
       "Wednesday     2551.0    78.992301  141.770603     0.0     4.3600    19.430   \n",
       "Thursday      2523.0    80.713781  146.829923     0.0     4.0600    18.450   \n",
       "Friday        2537.0    87.122803  157.248813     0.0     4.4000    20.890   \n",
       "Saturday      2546.0   104.187133  187.438838     0.0     6.3200    31.290   \n",
       "Sunday        2533.0   109.720904  198.120029     0.0     6.9700    35.130   \n",
       "Monday        2533.0    89.065898  156.694279     0.0     6.1600    27.860   \n",
       "Tuesday       2535.0    83.962276  166.977673     0.0     5.1400    21.880   \n",
       "Weekday mean  2568.0    81.199607  146.737828     0.0     4.7825    20.205   \n",
       "Weekend mean  2569.0    97.929260  172.108124     0.0     6.5000    30.340   \n",
       "Daily mean    2569.0    90.689000  158.996037     0.0     6.3100    26.510   \n",
       "\n",
       "                    75%      max  \n",
       "year          2020.0000  2021.00  \n",
       "Wednesday       82.6450  1423.91  \n",
       "Thursday        82.9800  1556.20  \n",
       "Friday          89.9600  1594.08  \n",
       "Saturday       101.6800  1806.01  \n",
       "Sunday         110.8500  2090.15  \n",
       "Monday          93.1400  1770.91  \n",
       "Tuesday         87.4600  3932.49  \n",
       "Weekday mean    85.5425  1945.78  \n",
       "Weekend mean    99.7400  1700.55  \n",
       "Daily mean      92.5300  1581.88  "
      ]
     },
     "execution_count": 6,
     "metadata": {},
     "output_type": "execute_result"
    },
    {
     "name": "stdout",
     "output_type": "stream",
     "text": [
      "df_sites:\n"
     ]
    },
    {
     "data": {
      "text/html": [
       "<div>\n",
       "<style scoped>\n",
       "    .dataframe tbody tr th:only-of-type {\n",
       "        vertical-align: middle;\n",
       "    }\n",
       "\n",
       "    .dataframe tbody tr th {\n",
       "        vertical-align: top;\n",
       "    }\n",
       "\n",
       "    .dataframe thead th {\n",
       "        text-align: right;\n",
       "    }\n",
       "</style>\n",
       "<table border=\"1\" class=\"dataframe\">\n",
       "  <thead>\n",
       "    <tr style=\"text-align: right;\">\n",
       "      <th></th>\n",
       "      <th>SiteID</th>\n",
       "      <th>country</th>\n",
       "      <th>city</th>\n",
       "      <th>location</th>\n",
       "      <th>latitude</th>\n",
       "      <th>longitude</th>\n",
       "      <th>population</th>\n",
       "      <th>institution</th>\n",
       "      <th>website</th>\n",
       "    </tr>\n",
       "  </thead>\n",
       "  <tbody>\n",
       "    <tr>\n",
       "      <th>0</th>\n",
       "      <td>AT001</td>\n",
       "      <td>AT</td>\n",
       "      <td>Graz</td>\n",
       "      <td>ARA Graz</td>\n",
       "      <td>47.070713</td>\n",
       "      <td>15.439504</td>\n",
       "      <td>487040.0</td>\n",
       "      <td>NaN</td>\n",
       "      <td>https://biomassspec.gmi.tirol/</td>\n",
       "    </tr>\n",
       "    <tr>\n",
       "      <th>1</th>\n",
       "      <td>AT002</td>\n",
       "      <td>AT</td>\n",
       "      <td>Hall-Wattens</td>\n",
       "      <td>Abwasserverband Hall in Tirol-Fritzens</td>\n",
       "      <td>47.29168</td>\n",
       "      <td>11.592840</td>\n",
       "      <td>78180.0</td>\n",
       "      <td>NaN</td>\n",
       "      <td>https://biomassspec.gmi.tirol/</td>\n",
       "    </tr>\n",
       "    <tr>\n",
       "      <th>2</th>\n",
       "      <td>AT004</td>\n",
       "      <td>AT</td>\n",
       "      <td>Innsbruck</td>\n",
       "      <td>ARA-Innsbruck</td>\n",
       "      <td>47.269212</td>\n",
       "      <td>11.404102</td>\n",
       "      <td>251656.0</td>\n",
       "      <td>Institute of Legal Medicine and Core Facility ...</td>\n",
       "      <td>http//gerichtsmedizin.at/bioanalytical_mass_sp...</td>\n",
       "    </tr>\n",
       "    <tr>\n",
       "      <th>3</th>\n",
       "      <td>AT005</td>\n",
       "      <td>AT</td>\n",
       "      <td>Kapfenberg</td>\n",
       "      <td>Kläranlage Kapfenberg</td>\n",
       "      <td>47.443562</td>\n",
       "      <td>15.290100</td>\n",
       "      <td>31032.0</td>\n",
       "      <td>NaN</td>\n",
       "      <td>https://biomassspec.gmi.tirol/</td>\n",
       "    </tr>\n",
       "    <tr>\n",
       "      <th>4</th>\n",
       "      <td>AT006</td>\n",
       "      <td>AT</td>\n",
       "      <td>Klosterneuburg</td>\n",
       "      <td>Klosterneuburg</td>\n",
       "      <td>48.309866</td>\n",
       "      <td>16.323772</td>\n",
       "      <td>30000.0</td>\n",
       "      <td>Insitute for Water quality, Resource and Waste...</td>\n",
       "      <td>http//iwr.tuwien.ac.at/water/</td>\n",
       "    </tr>\n",
       "  </tbody>\n",
       "</table>\n",
       "</div>"
      ],
      "text/plain": [
       "  SiteID country            city                                location  \\\n",
       "0  AT001      AT            Graz                                ARA Graz   \n",
       "1  AT002      AT    Hall-Wattens  Abwasserverband Hall in Tirol-Fritzens   \n",
       "2  AT004      AT       Innsbruck                           ARA-Innsbruck   \n",
       "3  AT005      AT      Kapfenberg                   Kläranlage Kapfenberg   \n",
       "4  AT006      AT  Klosterneuburg                          Klosterneuburg   \n",
       "\n",
       "    latitude  longitude  population  \\\n",
       "0  47.070713  15.439504    487040.0   \n",
       "1   47.29168  11.592840     78180.0   \n",
       "2  47.269212  11.404102    251656.0   \n",
       "3  47.443562  15.290100     31032.0   \n",
       "4  48.309866  16.323772     30000.0   \n",
       "\n",
       "                                         institution  \\\n",
       "0                                                NaN   \n",
       "1                                                NaN   \n",
       "2  Institute of Legal Medicine and Core Facility ...   \n",
       "3                                                NaN   \n",
       "4  Insitute for Water quality, Resource and Waste...   \n",
       "\n",
       "                                             website  \n",
       "0                     https://biomassspec.gmi.tirol/  \n",
       "1                     https://biomassspec.gmi.tirol/  \n",
       "2  http//gerichtsmedizin.at/bioanalytical_mass_sp...  \n",
       "3                     https://biomassspec.gmi.tirol/  \n",
       "4                      http//iwr.tuwien.ac.at/water/  "
      ]
     },
     "execution_count": 6,
     "metadata": {},
     "output_type": "execute_result"
    },
    {
     "name": "stdout",
     "output_type": "stream",
     "text": [
      "<class 'pandas.core.frame.DataFrame'>\n",
      "RangeIndex: 144 entries, 0 to 143\n",
      "Data columns (total 9 columns):\n",
      " #   Column       Non-Null Count  Dtype  \n",
      "---  ------       --------------  -----  \n",
      " 0   SiteID       144 non-null    object \n",
      " 1   country      144 non-null    object \n",
      " 2   city         144 non-null    object \n",
      " 3   location     135 non-null    object \n",
      " 4   latitude     144 non-null    object \n",
      " 5   longitude    144 non-null    float64\n",
      " 6   population   144 non-null    float64\n",
      " 7   institution  123 non-null    object \n",
      " 8   website      121 non-null    object \n",
      "dtypes: float64(2), object(7)\n",
      "memory usage: 10.2+ KB\n"
     ]
    },
    {
     "data": {
      "text/html": [
       "<div>\n",
       "<style scoped>\n",
       "    .dataframe tbody tr th:only-of-type {\n",
       "        vertical-align: middle;\n",
       "    }\n",
       "\n",
       "    .dataframe tbody tr th {\n",
       "        vertical-align: top;\n",
       "    }\n",
       "\n",
       "    .dataframe thead th {\n",
       "        text-align: right;\n",
       "    }\n",
       "</style>\n",
       "<table border=\"1\" class=\"dataframe\">\n",
       "  <thead>\n",
       "    <tr style=\"text-align: right;\">\n",
       "      <th></th>\n",
       "      <th>count</th>\n",
       "      <th>mean</th>\n",
       "      <th>std</th>\n",
       "      <th>min</th>\n",
       "      <th>25%</th>\n",
       "      <th>50%</th>\n",
       "      <th>75%</th>\n",
       "      <th>max</th>\n",
       "    </tr>\n",
       "  </thead>\n",
       "  <tbody>\n",
       "    <tr>\n",
       "      <th>longitude</th>\n",
       "      <td>144.0</td>\n",
       "      <td>13.882638</td>\n",
       "      <td>1.213035e+01</td>\n",
       "      <td>-61.05878</td>\n",
       "      <td>7.209233</td>\n",
       "      <td>14.445</td>\n",
       "      <td>23.131192</td>\n",
       "      <td>3.533083e+01</td>\n",
       "    </tr>\n",
       "    <tr>\n",
       "      <th>population</th>\n",
       "      <td>144.0</td>\n",
       "      <td>468046.763889</td>\n",
       "      <td>1.473283e+06</td>\n",
       "      <td>7774.00000</td>\n",
       "      <td>59303.000000</td>\n",
       "      <td>152500.000</td>\n",
       "      <td>430423.000000</td>\n",
       "      <td>1.652500e+07</td>\n",
       "    </tr>\n",
       "  </tbody>\n",
       "</table>\n",
       "</div>"
      ],
      "text/plain": [
       "            count           mean           std         min           25%  \\\n",
       "longitude   144.0      13.882638  1.213035e+01   -61.05878      7.209233   \n",
       "population  144.0  468046.763889  1.473283e+06  7774.00000  59303.000000   \n",
       "\n",
       "                   50%            75%           max  \n",
       "longitude       14.445      23.131192  3.533083e+01  \n",
       "population  152500.000  430423.000000  1.652500e+07  "
      ]
     },
     "execution_count": 6,
     "metadata": {},
     "output_type": "execute_result"
    }
   ],
   "source": [
    "# Checking the dfs\n",
    "\n",
    "print('df_measure:')\n",
    "df_measure.head()\n",
    "df_measure.info()\n",
    "df_measure.describe().T\n",
    "\n",
    "print('df_sites:')\n",
    "df_sites.head()\n",
    "df_sites.info()\n",
    "df_sites.describe().T"
   ]
  },
  {
   "cell_type": "code",
   "execution_count": 7,
   "id": "3ce458f8",
   "metadata": {},
   "outputs": [
    {
     "name": "stdout",
     "output_type": "stream",
     "text": [
      "df_measure:\n",
      "<class 'pandas.core.frame.DataFrame'>\n",
      "RangeIndex: 2569 entries, 0 to 2568\n",
      "Data columns (total 15 columns):\n",
      " #   Column        Non-Null Count  Dtype  \n",
      "---  ------        --------------  -----  \n",
      " 0   year          2569 non-null   Int64  \n",
      " 1   metabolite    2569 non-null   string \n",
      " 2   SiteID        2569 non-null   string \n",
      " 3   country       2569 non-null   string \n",
      " 4   city          2569 non-null   string \n",
      " 5   Wednesday     2551 non-null   Float64\n",
      " 6   Thursday      2523 non-null   Float64\n",
      " 7   Friday        2537 non-null   Float64\n",
      " 8   Saturday      2546 non-null   Float64\n",
      " 9   Sunday        2533 non-null   Float64\n",
      " 10  Monday        2533 non-null   Float64\n",
      " 11  Tuesday       2535 non-null   Float64\n",
      " 12  Weekday mean  2568 non-null   Float64\n",
      " 13  Weekend mean  2569 non-null   Float64\n",
      " 14  Daily mean    2569 non-null   Float64\n",
      "dtypes: Float64(10), Int64(1), string(4)\n",
      "memory usage: 328.8 KB\n",
      "\n",
      "df_sites:\n",
      "<class 'pandas.core.frame.DataFrame'>\n",
      "RangeIndex: 144 entries, 0 to 143\n",
      "Data columns (total 9 columns):\n",
      " #   Column       Non-Null Count  Dtype  \n",
      "---  ------       --------------  -----  \n",
      " 0   SiteID       144 non-null    string \n",
      " 1   country      144 non-null    string \n",
      " 2   city         144 non-null    string \n",
      " 3   location     135 non-null    string \n",
      " 4   latitude     144 non-null    Float64\n",
      " 5   longitude    144 non-null    Float64\n",
      " 6   population   144 non-null    Int64  \n",
      " 7   institution  123 non-null    string \n",
      " 8   website      121 non-null    string \n",
      "dtypes: Float64(2), Int64(1), string(6)\n",
      "memory usage: 10.7 KB\n"
     ]
    },
    {
     "data": {
      "text/html": [
       "<div>\n",
       "<style scoped>\n",
       "    .dataframe tbody tr th:only-of-type {\n",
       "        vertical-align: middle;\n",
       "    }\n",
       "\n",
       "    .dataframe tbody tr th {\n",
       "        vertical-align: top;\n",
       "    }\n",
       "\n",
       "    .dataframe thead th {\n",
       "        text-align: right;\n",
       "    }\n",
       "</style>\n",
       "<table border=\"1\" class=\"dataframe\">\n",
       "  <thead>\n",
       "    <tr style=\"text-align: right;\">\n",
       "      <th></th>\n",
       "      <th>count</th>\n",
       "      <th>mean</th>\n",
       "      <th>std</th>\n",
       "      <th>min</th>\n",
       "      <th>25%</th>\n",
       "      <th>50%</th>\n",
       "      <th>75%</th>\n",
       "      <th>max</th>\n",
       "    </tr>\n",
       "  </thead>\n",
       "  <tbody>\n",
       "    <tr>\n",
       "      <th>latitude</th>\n",
       "      <td>144.0</td>\n",
       "      <td>50.700171</td>\n",
       "      <td>8.483452e+00</td>\n",
       "      <td>14.616065</td>\n",
       "      <td>46.321706</td>\n",
       "      <td>50.50102</td>\n",
       "      <td>58.615094</td>\n",
       "      <td>6.650000e+01</td>\n",
       "    </tr>\n",
       "    <tr>\n",
       "      <th>longitude</th>\n",
       "      <td>144.0</td>\n",
       "      <td>13.882638</td>\n",
       "      <td>1.213035e+01</td>\n",
       "      <td>-61.058780</td>\n",
       "      <td>7.209233</td>\n",
       "      <td>14.44500</td>\n",
       "      <td>23.131192</td>\n",
       "      <td>3.533083e+01</td>\n",
       "    </tr>\n",
       "    <tr>\n",
       "      <th>population</th>\n",
       "      <td>144.0</td>\n",
       "      <td>468046.763889</td>\n",
       "      <td>1.473283e+06</td>\n",
       "      <td>7774.000000</td>\n",
       "      <td>59303.000000</td>\n",
       "      <td>152500.00000</td>\n",
       "      <td>430423.000000</td>\n",
       "      <td>1.652500e+07</td>\n",
       "    </tr>\n",
       "  </tbody>\n",
       "</table>\n",
       "</div>"
      ],
      "text/plain": [
       "            count           mean           std          min           25%  \\\n",
       "latitude    144.0      50.700171  8.483452e+00    14.616065     46.321706   \n",
       "longitude   144.0      13.882638  1.213035e+01   -61.058780      7.209233   \n",
       "population  144.0  468046.763889  1.473283e+06  7774.000000  59303.000000   \n",
       "\n",
       "                     50%            75%           max  \n",
       "latitude        50.50102      58.615094  6.650000e+01  \n",
       "longitude       14.44500      23.131192  3.533083e+01  \n",
       "population  152500.00000  430423.000000  1.652500e+07  "
      ]
     },
     "execution_count": 7,
     "metadata": {},
     "output_type": "execute_result"
    }
   ],
   "source": [
    "# The latitude of the df_sites is a false datatype. And there are object types, which I want to be strings in both dfs\n",
    "\n",
    "df_sites['latitude'] = df_sites['latitude'].astype(float)\n",
    "df_sites = df_sites.convert_dtypes()\n",
    "\n",
    "df_measure = df_measure.convert_dtypes()\n",
    "\n",
    "print('df_measure:')\n",
    "df_measure.info()\n",
    "print('')\n",
    "print('df_sites:')\n",
    "df_sites.info()\n",
    "df_sites.describe().T"
   ]
  },
  {
   "cell_type": "code",
   "execution_count": 8,
   "id": "1f2f10b6",
   "metadata": {},
   "outputs": [
    {
     "name": "stdout",
     "output_type": "stream",
     "text": [
      "df_measure:\n"
     ]
    },
    {
     "data": {
      "text/plain": [
       "0"
      ]
     },
     "execution_count": 8,
     "metadata": {},
     "output_type": "execute_result"
    },
    {
     "name": "stdout",
     "output_type": "stream",
     "text": [
      "df_sites:\n"
     ]
    },
    {
     "data": {
      "text/plain": [
       "0"
      ]
     },
     "execution_count": 8,
     "metadata": {},
     "output_type": "execute_result"
    }
   ],
   "source": [
    "# Checking for duplicates\n",
    "\n",
    "print('df_measure:')\n",
    "len(df_measure)-len(df_measure.drop_duplicates())\n",
    "\n",
    "print('df_sites:')\n",
    "len(df_sites)-len(df_sites.drop_duplicates())"
   ]
  },
  {
   "cell_type": "markdown",
   "id": "1676c041",
   "metadata": {},
   "source": [
    "<h4>\n",
    "    <font color=0096FF>\n",
    "        Intermediate step\n",
    "    </font>\n",
    "</h4>    \n",
    "<p>\n",
    "    Due to the inconsistent non-null values of df_measure, i'm assuming, that some values of the columns are NA, to check that I wrote a short code in the next cell.\n",
    "<p>\n",
    "    The non-null values in df_sites are in the columns: country, city, location, institution, and website. All of these columns will not be merged into df_measure and therefore dropped. These columns are not needed for the further process."
   ]
  },
  {
   "cell_type": "code",
   "execution_count": 9,
   "id": "54a9e889",
   "metadata": {},
   "outputs": [
    {
     "name": "stdout",
     "output_type": "stream",
     "text": [
      "year 0\n",
      "metabolite 0\n",
      "SiteID 0\n",
      "country 0\n",
      "city 0\n",
      "Wednesday 18\n",
      "Thursday 46\n",
      "Friday 32\n",
      "Saturday 23\n",
      "Sunday 36\n",
      "Monday 36\n",
      "Tuesday 34\n",
      "Weekday mean 1\n",
      "Weekend mean 0\n",
      "Daily mean 0\n"
     ]
    }
   ],
   "source": [
    "check_columns_na = list(df_measure)\n",
    "\n",
    "for i in check_columns_na:\n",
    "    print(i,len(df_measure[df_measure[i].isna()]))"
   ]
  },
  {
   "cell_type": "markdown",
   "id": "d08eaf56",
   "metadata": {},
   "source": [
    "<p>\n",
    "    I will change the missing values to a zero. This doesn't change the outcome of the analysis, since these values are missing anyway."
   ]
  },
  {
   "cell_type": "code",
   "execution_count": 10,
   "id": "7bc9c70d",
   "metadata": {},
   "outputs": [],
   "source": [
    "# Inserting 0 as a float64 into the null values\n",
    "\n",
    "df_measure = df_measure.fillna(0.0)    "
   ]
  },
  {
   "cell_type": "code",
   "execution_count": 11,
   "id": "3d22c9fc",
   "metadata": {},
   "outputs": [
    {
     "name": "stdout",
     "output_type": "stream",
     "text": [
      "year 0\n",
      "metabolite 0\n",
      "SiteID 0\n",
      "country 0\n",
      "city 0\n",
      "Wednesday 0\n",
      "Thursday 0\n",
      "Friday 0\n",
      "Saturday 0\n",
      "Sunday 0\n",
      "Monday 0\n",
      "Tuesday 0\n",
      "Weekday mean 0\n",
      "Weekend mean 0\n",
      "Daily mean 0\n",
      "\n",
      "<class 'pandas.core.frame.DataFrame'>\n",
      "RangeIndex: 2569 entries, 0 to 2568\n",
      "Data columns (total 15 columns):\n",
      " #   Column        Non-Null Count  Dtype  \n",
      "---  ------        --------------  -----  \n",
      " 0   year          2569 non-null   Int64  \n",
      " 1   metabolite    2569 non-null   string \n",
      " 2   SiteID        2569 non-null   string \n",
      " 3   country       2569 non-null   string \n",
      " 4   city          2569 non-null   string \n",
      " 5   Wednesday     2569 non-null   Float64\n",
      " 6   Thursday      2569 non-null   Float64\n",
      " 7   Friday        2569 non-null   Float64\n",
      " 8   Saturday      2569 non-null   Float64\n",
      " 9   Sunday        2569 non-null   Float64\n",
      " 10  Monday        2569 non-null   Float64\n",
      " 11  Tuesday       2569 non-null   Float64\n",
      " 12  Weekday mean  2569 non-null   Float64\n",
      " 13  Weekend mean  2569 non-null   Float64\n",
      " 14  Daily mean    2569 non-null   Float64\n",
      "dtypes: Float64(10), Int64(1), string(4)\n",
      "memory usage: 328.8 KB\n"
     ]
    }
   ],
   "source": [
    "# Test, if changes worked\n",
    "\n",
    "for i in check_columns_na:\n",
    "    print(i,len(df_measure[df_measure[i].isna()]))\n",
    "\n",
    "print(\"\")\n",
    "df_measure.info()"
   ]
  },
  {
   "cell_type": "markdown",
   "id": "b5f5dc91",
   "metadata": {},
   "source": [
    "<h3>\n",
    "    <font color=0096FF>\n",
    "        <a href='#start'>Basic Statistical Analysis</a><a id='basicstatistic'></a>\n",
    "    </font>\n",
    "</h3>"
   ]
  },
  {
   "cell_type": "markdown",
   "id": "b74750f0",
   "metadata": {},
   "source": [
    "<p>\n",
    "    First, I will merge the df_sites into the df_measure. Afterwards, check if the merging was successful to then go on with the basic statistical analysis."
   ]
  },
  {
   "cell_type": "code",
   "execution_count": 12,
   "id": "e7a37e7a",
   "metadata": {},
   "outputs": [],
   "source": [
    "df_wastewater = pd.merge(df_measure,df_sites[['SiteID','latitude','longitude','population']],how='outer',on='SiteID')"
   ]
  },
  {
   "cell_type": "code",
   "execution_count": 13,
   "id": "1d7b4b00",
   "metadata": {},
   "outputs": [
    {
     "data": {
      "text/plain": [
       "(2569, 18)"
      ]
     },
     "execution_count": 13,
     "metadata": {},
     "output_type": "execute_result"
    }
   ],
   "source": [
    "df_wastewater.shape"
   ]
  },
  {
   "cell_type": "code",
   "execution_count": 14,
   "id": "a35c31e9",
   "metadata": {},
   "outputs": [
    {
     "data": {
      "text/html": [
       "<div>\n",
       "<style scoped>\n",
       "    .dataframe tbody tr th:only-of-type {\n",
       "        vertical-align: middle;\n",
       "    }\n",
       "\n",
       "    .dataframe tbody tr th {\n",
       "        vertical-align: top;\n",
       "    }\n",
       "\n",
       "    .dataframe thead th {\n",
       "        text-align: right;\n",
       "    }\n",
       "</style>\n",
       "<table border=\"1\" class=\"dataframe\">\n",
       "  <thead>\n",
       "    <tr style=\"text-align: right;\">\n",
       "      <th></th>\n",
       "      <th>year</th>\n",
       "      <th>metabolite</th>\n",
       "      <th>SiteID</th>\n",
       "      <th>country</th>\n",
       "      <th>city</th>\n",
       "      <th>Wednesday</th>\n",
       "      <th>Thursday</th>\n",
       "      <th>Friday</th>\n",
       "      <th>Saturday</th>\n",
       "      <th>Sunday</th>\n",
       "      <th>Monday</th>\n",
       "      <th>Tuesday</th>\n",
       "      <th>Weekday mean</th>\n",
       "      <th>Weekend mean</th>\n",
       "      <th>Daily mean</th>\n",
       "      <th>latitude</th>\n",
       "      <th>longitude</th>\n",
       "      <th>population</th>\n",
       "    </tr>\n",
       "  </thead>\n",
       "  <tbody>\n",
       "    <tr>\n",
       "      <th>0</th>\n",
       "      <td>2021</td>\n",
       "      <td>amphetamine</td>\n",
       "      <td>AT001</td>\n",
       "      <td>AT</td>\n",
       "      <td>Graz</td>\n",
       "      <td>47.15</td>\n",
       "      <td>37.48</td>\n",
       "      <td>37.95</td>\n",
       "      <td>38.02</td>\n",
       "      <td>38.14</td>\n",
       "      <td>35.82</td>\n",
       "      <td>35.45</td>\n",
       "      <td>40.03</td>\n",
       "      <td>37.48</td>\n",
       "      <td>38.57</td>\n",
       "      <td>47.070713</td>\n",
       "      <td>15.439504</td>\n",
       "      <td>487040</td>\n",
       "    </tr>\n",
       "    <tr>\n",
       "      <th>1</th>\n",
       "      <td>2021</td>\n",
       "      <td>cannabis</td>\n",
       "      <td>AT001</td>\n",
       "      <td>AT</td>\n",
       "      <td>Graz</td>\n",
       "      <td>54.77</td>\n",
       "      <td>80.42</td>\n",
       "      <td>60.1</td>\n",
       "      <td>53.88</td>\n",
       "      <td>50.46</td>\n",
       "      <td>77.04</td>\n",
       "      <td>233.51</td>\n",
       "      <td>122.9</td>\n",
       "      <td>60.37</td>\n",
       "      <td>87.17</td>\n",
       "      <td>47.070713</td>\n",
       "      <td>15.439504</td>\n",
       "      <td>487040</td>\n",
       "    </tr>\n",
       "    <tr>\n",
       "      <th>2</th>\n",
       "      <td>2021</td>\n",
       "      <td>cocaine</td>\n",
       "      <td>AT001</td>\n",
       "      <td>AT</td>\n",
       "      <td>Graz</td>\n",
       "      <td>127.6</td>\n",
       "      <td>121.48</td>\n",
       "      <td>137.75</td>\n",
       "      <td>174.94</td>\n",
       "      <td>179.55</td>\n",
       "      <td>117.31</td>\n",
       "      <td>111.91</td>\n",
       "      <td>120.33</td>\n",
       "      <td>152.39</td>\n",
       "      <td>138.65</td>\n",
       "      <td>47.070713</td>\n",
       "      <td>15.439504</td>\n",
       "      <td>487040</td>\n",
       "    </tr>\n",
       "    <tr>\n",
       "      <th>3</th>\n",
       "      <td>2021</td>\n",
       "      <td>MDMA</td>\n",
       "      <td>AT001</td>\n",
       "      <td>AT</td>\n",
       "      <td>Graz</td>\n",
       "      <td>5.82</td>\n",
       "      <td>4.53</td>\n",
       "      <td>5.27</td>\n",
       "      <td>16.56</td>\n",
       "      <td>17.37</td>\n",
       "      <td>10.14</td>\n",
       "      <td>7.83</td>\n",
       "      <td>6.06</td>\n",
       "      <td>12.33</td>\n",
       "      <td>9.64</td>\n",
       "      <td>47.070713</td>\n",
       "      <td>15.439504</td>\n",
       "      <td>487040</td>\n",
       "    </tr>\n",
       "    <tr>\n",
       "      <th>4</th>\n",
       "      <td>2021</td>\n",
       "      <td>methamphetamine</td>\n",
       "      <td>AT001</td>\n",
       "      <td>AT</td>\n",
       "      <td>Graz</td>\n",
       "      <td>12.44</td>\n",
       "      <td>11.24</td>\n",
       "      <td>14.99</td>\n",
       "      <td>9.33</td>\n",
       "      <td>18.66</td>\n",
       "      <td>9.33</td>\n",
       "      <td>15.66</td>\n",
       "      <td>13.11</td>\n",
       "      <td>13.08</td>\n",
       "      <td>13.09</td>\n",
       "      <td>47.070713</td>\n",
       "      <td>15.439504</td>\n",
       "      <td>487040</td>\n",
       "    </tr>\n",
       "  </tbody>\n",
       "</table>\n",
       "</div>"
      ],
      "text/plain": [
       "   year       metabolite SiteID country  city  Wednesday  Thursday  Friday  \\\n",
       "0  2021      amphetamine  AT001      AT  Graz      47.15     37.48   37.95   \n",
       "1  2021         cannabis  AT001      AT  Graz      54.77     80.42    60.1   \n",
       "2  2021          cocaine  AT001      AT  Graz      127.6    121.48  137.75   \n",
       "3  2021             MDMA  AT001      AT  Graz       5.82      4.53    5.27   \n",
       "4  2021  methamphetamine  AT001      AT  Graz      12.44     11.24   14.99   \n",
       "\n",
       "   Saturday  Sunday  Monday  Tuesday  Weekday mean  Weekend mean  Daily mean  \\\n",
       "0     38.02   38.14   35.82    35.45         40.03         37.48       38.57   \n",
       "1     53.88   50.46   77.04   233.51         122.9         60.37       87.17   \n",
       "2    174.94  179.55  117.31   111.91        120.33        152.39      138.65   \n",
       "3     16.56   17.37   10.14     7.83          6.06         12.33        9.64   \n",
       "4      9.33   18.66    9.33    15.66         13.11         13.08       13.09   \n",
       "\n",
       "    latitude  longitude  population  \n",
       "0  47.070713  15.439504      487040  \n",
       "1  47.070713  15.439504      487040  \n",
       "2  47.070713  15.439504      487040  \n",
       "3  47.070713  15.439504      487040  \n",
       "4  47.070713  15.439504      487040  "
      ]
     },
     "execution_count": 14,
     "metadata": {},
     "output_type": "execute_result"
    }
   ],
   "source": [
    "df_wastewater.head()"
   ]
  },
  {
   "cell_type": "code",
   "execution_count": 15,
   "id": "45784902",
   "metadata": {},
   "outputs": [],
   "source": [
    "# Rearranging the order of columns\n",
    "\n",
    "columns_order = df_wastewater.columns.tolist()\n",
    "\n",
    "df_wastewater = df_wastewater[columns_order[0:5]+columns_order[15:]+columns_order[5:15]]"
   ]
  },
  {
   "cell_type": "code",
   "execution_count": 16,
   "id": "8772045e",
   "metadata": {},
   "outputs": [
    {
     "data": {
      "text/html": [
       "<div>\n",
       "<style scoped>\n",
       "    .dataframe tbody tr th:only-of-type {\n",
       "        vertical-align: middle;\n",
       "    }\n",
       "\n",
       "    .dataframe tbody tr th {\n",
       "        vertical-align: top;\n",
       "    }\n",
       "\n",
       "    .dataframe thead th {\n",
       "        text-align: right;\n",
       "    }\n",
       "</style>\n",
       "<table border=\"1\" class=\"dataframe\">\n",
       "  <thead>\n",
       "    <tr style=\"text-align: right;\">\n",
       "      <th></th>\n",
       "      <th>year</th>\n",
       "      <th>metabolite</th>\n",
       "      <th>SiteID</th>\n",
       "      <th>country</th>\n",
       "      <th>city</th>\n",
       "      <th>latitude</th>\n",
       "      <th>longitude</th>\n",
       "      <th>population</th>\n",
       "      <th>Wednesday</th>\n",
       "      <th>Thursday</th>\n",
       "      <th>Friday</th>\n",
       "      <th>Saturday</th>\n",
       "      <th>Sunday</th>\n",
       "      <th>Monday</th>\n",
       "      <th>Tuesday</th>\n",
       "      <th>Weekday mean</th>\n",
       "      <th>Weekend mean</th>\n",
       "      <th>Daily mean</th>\n",
       "    </tr>\n",
       "  </thead>\n",
       "  <tbody>\n",
       "    <tr>\n",
       "      <th>0</th>\n",
       "      <td>2021</td>\n",
       "      <td>amphetamine</td>\n",
       "      <td>AT001</td>\n",
       "      <td>AT</td>\n",
       "      <td>Graz</td>\n",
       "      <td>47.070713</td>\n",
       "      <td>15.439504</td>\n",
       "      <td>487040</td>\n",
       "      <td>47.15</td>\n",
       "      <td>37.48</td>\n",
       "      <td>37.95</td>\n",
       "      <td>38.02</td>\n",
       "      <td>38.14</td>\n",
       "      <td>35.82</td>\n",
       "      <td>35.45</td>\n",
       "      <td>40.03</td>\n",
       "      <td>37.48</td>\n",
       "      <td>38.57</td>\n",
       "    </tr>\n",
       "    <tr>\n",
       "      <th>1</th>\n",
       "      <td>2021</td>\n",
       "      <td>cannabis</td>\n",
       "      <td>AT001</td>\n",
       "      <td>AT</td>\n",
       "      <td>Graz</td>\n",
       "      <td>47.070713</td>\n",
       "      <td>15.439504</td>\n",
       "      <td>487040</td>\n",
       "      <td>54.77</td>\n",
       "      <td>80.42</td>\n",
       "      <td>60.1</td>\n",
       "      <td>53.88</td>\n",
       "      <td>50.46</td>\n",
       "      <td>77.04</td>\n",
       "      <td>233.51</td>\n",
       "      <td>122.9</td>\n",
       "      <td>60.37</td>\n",
       "      <td>87.17</td>\n",
       "    </tr>\n",
       "    <tr>\n",
       "      <th>2</th>\n",
       "      <td>2021</td>\n",
       "      <td>cocaine</td>\n",
       "      <td>AT001</td>\n",
       "      <td>AT</td>\n",
       "      <td>Graz</td>\n",
       "      <td>47.070713</td>\n",
       "      <td>15.439504</td>\n",
       "      <td>487040</td>\n",
       "      <td>127.6</td>\n",
       "      <td>121.48</td>\n",
       "      <td>137.75</td>\n",
       "      <td>174.94</td>\n",
       "      <td>179.55</td>\n",
       "      <td>117.31</td>\n",
       "      <td>111.91</td>\n",
       "      <td>120.33</td>\n",
       "      <td>152.39</td>\n",
       "      <td>138.65</td>\n",
       "    </tr>\n",
       "    <tr>\n",
       "      <th>3</th>\n",
       "      <td>2021</td>\n",
       "      <td>MDMA</td>\n",
       "      <td>AT001</td>\n",
       "      <td>AT</td>\n",
       "      <td>Graz</td>\n",
       "      <td>47.070713</td>\n",
       "      <td>15.439504</td>\n",
       "      <td>487040</td>\n",
       "      <td>5.82</td>\n",
       "      <td>4.53</td>\n",
       "      <td>5.27</td>\n",
       "      <td>16.56</td>\n",
       "      <td>17.37</td>\n",
       "      <td>10.14</td>\n",
       "      <td>7.83</td>\n",
       "      <td>6.06</td>\n",
       "      <td>12.33</td>\n",
       "      <td>9.64</td>\n",
       "    </tr>\n",
       "    <tr>\n",
       "      <th>4</th>\n",
       "      <td>2021</td>\n",
       "      <td>methamphetamine</td>\n",
       "      <td>AT001</td>\n",
       "      <td>AT</td>\n",
       "      <td>Graz</td>\n",
       "      <td>47.070713</td>\n",
       "      <td>15.439504</td>\n",
       "      <td>487040</td>\n",
       "      <td>12.44</td>\n",
       "      <td>11.24</td>\n",
       "      <td>14.99</td>\n",
       "      <td>9.33</td>\n",
       "      <td>18.66</td>\n",
       "      <td>9.33</td>\n",
       "      <td>15.66</td>\n",
       "      <td>13.11</td>\n",
       "      <td>13.08</td>\n",
       "      <td>13.09</td>\n",
       "    </tr>\n",
       "  </tbody>\n",
       "</table>\n",
       "</div>"
      ],
      "text/plain": [
       "   year       metabolite SiteID country  city   latitude  longitude  \\\n",
       "0  2021      amphetamine  AT001      AT  Graz  47.070713  15.439504   \n",
       "1  2021         cannabis  AT001      AT  Graz  47.070713  15.439504   \n",
       "2  2021          cocaine  AT001      AT  Graz  47.070713  15.439504   \n",
       "3  2021             MDMA  AT001      AT  Graz  47.070713  15.439504   \n",
       "4  2021  methamphetamine  AT001      AT  Graz  47.070713  15.439504   \n",
       "\n",
       "   population  Wednesday  Thursday  Friday  Saturday  Sunday  Monday  Tuesday  \\\n",
       "0      487040      47.15     37.48   37.95     38.02   38.14   35.82    35.45   \n",
       "1      487040      54.77     80.42    60.1     53.88   50.46   77.04   233.51   \n",
       "2      487040      127.6    121.48  137.75    174.94  179.55  117.31   111.91   \n",
       "3      487040       5.82      4.53    5.27     16.56   17.37   10.14     7.83   \n",
       "4      487040      12.44     11.24   14.99      9.33   18.66    9.33    15.66   \n",
       "\n",
       "   Weekday mean  Weekend mean  Daily mean  \n",
       "0         40.03         37.48       38.57  \n",
       "1         122.9         60.37       87.17  \n",
       "2        120.33        152.39      138.65  \n",
       "3          6.06         12.33        9.64  \n",
       "4         13.11         13.08       13.09  "
      ]
     },
     "execution_count": 16,
     "metadata": {},
     "output_type": "execute_result"
    }
   ],
   "source": [
    "df_wastewater.head()"
   ]
  },
  {
   "cell_type": "code",
   "execution_count": 17,
   "id": "94561460",
   "metadata": {},
   "outputs": [
    {
     "name": "stdout",
     "output_type": "stream",
     "text": [
      "year 0\n",
      "metabolite 0\n",
      "SiteID 0\n",
      "country 0\n",
      "city 0\n",
      "latitude 0\n",
      "longitude 0\n",
      "population 0\n",
      "Wednesday 0\n",
      "Thursday 0\n",
      "Friday 0\n",
      "Saturday 0\n",
      "Sunday 0\n",
      "Monday 0\n",
      "Tuesday 0\n",
      "Weekday mean 0\n",
      "Weekend mean 0\n",
      "Daily mean 0\n"
     ]
    }
   ],
   "source": [
    "# Checking for NA\n",
    "\n",
    "for i in df_wastewater.columns.tolist():\n",
    "    print(i,len(df_wastewater[df_wastewater[i].isna()]))"
   ]
  },
  {
   "cell_type": "code",
   "execution_count": 18,
   "id": "ef31fbb9",
   "metadata": {},
   "outputs": [
    {
     "data": {
      "text/plain": [
       "0"
      ]
     },
     "execution_count": 18,
     "metadata": {},
     "output_type": "execute_result"
    }
   ],
   "source": [
    "# Checking for duplicates\n",
    "\n",
    "len(df_wastewater)-len(df_wastewater.drop_duplicates())"
   ]
  },
  {
   "cell_type": "markdown",
   "id": "bb7a3a08",
   "metadata": {},
   "source": [
    "<h4>\n",
    "    <font color=0096FF>\n",
    "        Basic Statistical Analysis - Beginning\n",
    "    </font>\n",
    "</h4>"
   ]
  },
  {
   "cell_type": "markdown",
   "id": "2c263369",
   "metadata": {},
   "source": [
    "<p>\n",
    "    Here I will create distribution and frequency charts and save them directly."
   ]
  },
  {
   "cell_type": "code",
   "execution_count": 19,
   "id": "f0f7b867",
   "metadata": {},
   "outputs": [],
   "source": [
    "list_wastewater_written = df_wastewater[['metabolite','SiteID','country','city']].columns.tolist()\n",
    "\n",
    "list_wastewater_numeric = df_wastewater[['year','population','Wednesday','Thursday','Friday','Saturday','Sunday','Monday','Tuesday','Weekday mean','Weekend mean','Daily mean']].columns.tolist()"
   ]
  },
  {
   "cell_type": "code",
   "execution_count": 20,
   "id": "431ae160",
   "metadata": {
    "scrolled": true
   },
   "outputs": [
    {
     "data": {
      "text/plain": [
       "['metabolite', 'SiteID', 'country', 'city']"
      ]
     },
     "execution_count": 20,
     "metadata": {},
     "output_type": "execute_result"
    },
    {
     "data": {
      "text/plain": [
       "['year',\n",
       " 'population',\n",
       " 'Wednesday',\n",
       " 'Thursday',\n",
       " 'Friday',\n",
       " 'Saturday',\n",
       " 'Sunday',\n",
       " 'Monday',\n",
       " 'Tuesday',\n",
       " 'Weekday mean',\n",
       " 'Weekend mean',\n",
       " 'Daily mean']"
      ]
     },
     "execution_count": 20,
     "metadata": {},
     "output_type": "execute_result"
    }
   ],
   "source": [
    "list_wastewater_written\n",
    "\n",
    "list_wastewater_numeric"
   ]
  },
  {
   "cell_type": "code",
   "execution_count": 21,
   "id": "354c0f3e",
   "metadata": {},
   "outputs": [
    {
     "data": {
      "text/plain": [
       "<AxesSubplot:ylabel='Frequency'>"
      ]
     },
     "execution_count": 21,
     "metadata": {},
     "output_type": "execute_result"
    },
    {
     "data": {
      "text/plain": [
       "Text(0.5, 1.0, 'Consumption in mg/1000p/day Wednesday')"
      ]
     },
     "execution_count": 21,
     "metadata": {},
     "output_type": "execute_result"
    },
    {
     "data": {
      "text/plain": [
       "Text(0.5, 0, 'Wednesday')"
      ]
     },
     "execution_count": 21,
     "metadata": {},
     "output_type": "execute_result"
    },
    {
     "data": {
      "image/png": "[encoded data removed]",
      "text/plain": [
       "<Figure size 432x288 with 1 Axes>"
      ]
     },
     "metadata": {
      "needs_background": "light"
     },
     "output_type": "display_data"
    },
    {
     "data": {
      "text/plain": [
       "<AxesSubplot:ylabel='Frequency'>"
      ]
     },
     "execution_count": 21,
     "metadata": {},
     "output_type": "execute_result"
    },
    {
     "data": {
      "text/plain": [
       "Text(0.5, 1.0, 'Consumption in mg/1000p/day Thursday')"
      ]
     },
     "execution_count": 21,
     "metadata": {},
     "output_type": "execute_result"
    },
    {
     "data": {
      "text/plain": [
       "Text(0.5, 0, 'Thursday')"
      ]
     },
     "execution_count": 21,
     "metadata": {},
     "output_type": "execute_result"
    },
    {
     "data": {
      "image/png": "[encoded data removed]",
      "text/plain": [
       "<Figure size 432x288 with 1 Axes>"
      ]
     },
     "metadata": {
      "needs_background": "light"
     },
     "output_type": "display_data"
    },
    {
     "data": {
      "text/plain": [
       "<AxesSubplot:ylabel='Frequency'>"
      ]
     },
     "execution_count": 21,
     "metadata": {},
     "output_type": "execute_result"
    },
    {
     "data": {
      "text/plain": [
       "Text(0.5, 1.0, 'Consumption in mg/1000p/day Friday')"
      ]
     },
     "execution_count": 21,
     "metadata": {},
     "output_type": "execute_result"
    },
    {
     "data": {
      "text/plain": [
       "Text(0.5, 0, 'Friday')"
      ]
     },
     "execution_count": 21,
     "metadata": {},
     "output_type": "execute_result"
    },
    {
     "data": {
      "image/png": "[encoded data removed]",
      "text/plain": [
       "<Figure size 432x288 with 1 Axes>"
      ]
     },
     "metadata": {
      "needs_background": "light"
     },
     "output_type": "display_data"
    },
    {
     "data": {
      "text/plain": [
       "<AxesSubplot:ylabel='Frequency'>"
      ]
     },
     "execution_count": 21,
     "metadata": {},
     "output_type": "execute_result"
    },
    {
     "data": {
      "text/plain": [
       "Text(0.5, 1.0, 'Consumption in mg/1000p/day Saturday')"
      ]
     },
     "execution_count": 21,
     "metadata": {},
     "output_type": "execute_result"
    },
    {
     "data": {
      "text/plain": [
       "Text(0.5, 0, 'Saturday')"
      ]
     },
     "execution_count": 21,
     "metadata": {},
     "output_type": "execute_result"
    },
    {
     "data": {
      "image/png": "[encoded data removed]",
      "text/plain": [
       "<Figure size 432x288 with 1 Axes>"
      ]
     },
     "metadata": {
      "needs_background": "light"
     },
     "output_type": "display_data"
    },
    {
     "data": {
      "text/plain": [
       "<AxesSubplot:ylabel='Frequency'>"
      ]
     },
     "execution_count": 21,
     "metadata": {},
     "output_type": "execute_result"
    },
    {
     "data": {
      "text/plain": [
       "Text(0.5, 1.0, 'Consumption in mg/1000p/day Sunday')"
      ]
     },
     "execution_count": 21,
     "metadata": {},
     "output_type": "execute_result"
    },
    {
     "data": {
      "text/plain": [
       "Text(0.5, 0, 'Sunday')"
      ]
     },
     "execution_count": 21,
     "metadata": {},
     "output_type": "execute_result"
    },
    {
     "data": {
      "image/png": "[encoded data removed]",
      "text/plain": [
       "<Figure size 432x288 with 1 Axes>"
      ]
     },
     "metadata": {
      "needs_background": "light"
     },
     "output_type": "display_data"
    },
    {
     "data": {
      "text/plain": [
       "<AxesSubplot:ylabel='Frequency'>"
      ]
     },
     "execution_count": 21,
     "metadata": {},
     "output_type": "execute_result"
    },
    {
     "data": {
      "text/plain": [
       "Text(0.5, 1.0, 'Consumption in mg/1000p/day Monday')"
      ]
     },
     "execution_count": 21,
     "metadata": {},
     "output_type": "execute_result"
    },
    {
     "data": {
      "text/plain": [
       "Text(0.5, 0, 'Monday')"
      ]
     },
     "execution_count": 21,
     "metadata": {},
     "output_type": "execute_result"
    },
    {
     "data": {
      "image/png": "[encoded data removed]",
      "text/plain": [
       "<Figure size 432x288 with 1 Axes>"
      ]
     },
     "metadata": {
      "needs_background": "light"
     },
     "output_type": "display_data"
    },
    {
     "data": {
      "text/plain": [
       "<AxesSubplot:ylabel='Frequency'>"
      ]
     },
     "execution_count": 21,
     "metadata": {},
     "output_type": "execute_result"
    },
    {
     "data": {
      "text/plain": [
       "Text(0.5, 1.0, 'Consumption in mg/1000p/day Tuesday')"
      ]
     },
     "execution_count": 21,
     "metadata": {},
     "output_type": "execute_result"
    },
    {
     "data": {
      "text/plain": [
       "Text(0.5, 0, 'Tuesday')"
      ]
     },
     "execution_count": 21,
     "metadata": {},
     "output_type": "execute_result"
    },
    {
     "data": {
      "image/png": "[encoded data removed]",
      "text/plain": [
       "<Figure size 432x288 with 1 Axes>"
      ]
     },
     "metadata": {
      "needs_background": "light"
     },
     "output_type": "display_data"
    },
    {
     "data": {
      "text/plain": [
       "<AxesSubplot:ylabel='Frequency'>"
      ]
     },
     "execution_count": 21,
     "metadata": {},
     "output_type": "execute_result"
    },
    {
     "data": {
      "text/plain": [
       "Text(0.5, 1.0, 'Consumption in mg/1000p/day Weekday mean')"
      ]
     },
     "execution_count": 21,
     "metadata": {},
     "output_type": "execute_result"
    },
    {
     "data": {
      "text/plain": [
       "Text(0.5, 0, 'Weekday mean')"
      ]
     },
     "execution_count": 21,
     "metadata": {},
     "output_type": "execute_result"
    },
    {
     "data": {
      "image/png": "[encoded data removed]",
      "text/plain": [
       "<Figure size 432x288 with 1 Axes>"
      ]
     },
     "metadata": {
      "needs_background": "light"
     },
     "output_type": "display_data"
    },
    {
     "data": {
      "text/plain": [
       "<AxesSubplot:ylabel='Frequency'>"
      ]
     },
     "execution_count": 21,
     "metadata": {},
     "output_type": "execute_result"
    },
    {
     "data": {
      "text/plain": [
       "Text(0.5, 1.0, 'Consumption in mg/1000p/day Weekend mean')"
      ]
     },
     "execution_count": 21,
     "metadata": {},
     "output_type": "execute_result"
    },
    {
     "data": {
      "text/plain": [
       "Text(0.5, 0, 'Weekend mean')"
      ]
     },
     "execution_count": 21,
     "metadata": {},
     "output_type": "execute_result"
    },
    {
     "data": {
      "image/png": "[encoded data removed]",
      "text/plain": [
       "<Figure size 432x288 with 1 Axes>"
      ]
     },
     "metadata": {
      "needs_background": "light"
     },
     "output_type": "display_data"
    },
    {
     "data": {
      "text/plain": [
       "<AxesSubplot:ylabel='Frequency'>"
      ]
     },
     "execution_count": 21,
     "metadata": {},
     "output_type": "execute_result"
    },
    {
     "data": {
      "text/plain": [
       "Text(0.5, 1.0, 'Consumption in mg/1000p/day Daily mean')"
      ]
     },
     "execution_count": 21,
     "metadata": {},
     "output_type": "execute_result"
    },
    {
     "data": {
      "text/plain": [
       "Text(0.5, 0, 'Daily mean')"
      ]
     },
     "execution_count": 21,
     "metadata": {},
     "output_type": "execute_result"
    },
    {
     "data": {
      "image/png": "[encoded data removed]",
      "text/plain": [
       "<Figure size 432x288 with 1 Axes>"
      ]
     },
     "metadata": {
      "needs_background": "light"
     },
     "output_type": "display_data"
    }
   ],
   "source": [
    "for i in list_wastewater_numeric[2:]:\n",
    "    df_wastewater[i].plot.hist(bins = 50)\n",
    "    plt.title('Consumption in mg/1000p/day '+i)\n",
    "    plt.xlabel(i, labelpad = 5)\n",
    "    plt.ticklabel_format(style='plain', axis='x')\n",
    "    plt.grid()\n",
    "    plt.savefig(os.path.join(path,'04 Analysis','01 Visualizations','01 Descriptive','Frequency '+i+'.png'),bbox_inches='tight')\n",
    "    plt.show();    "
   ]
  },
  {
   "cell_type": "code",
   "execution_count": 22,
   "id": "cdb78675",
   "metadata": {},
   "outputs": [
    {
     "data": {
      "image/png": "[encoded data removed]",
      "text/plain": [
       "<Figure size 432x288 with 1 Axes>"
      ]
     },
     "metadata": {
      "needs_background": "light"
     },
     "output_type": "display_data"
    }
   ],
   "source": [
    "df_wastewater[list_wastewater_numeric[0]].plot.hist(bins=11)\n",
    "plt.title('Frequency of measurements throughout the years')\n",
    "plt.xlabel('Years',labelpad=5)\n",
    "plt.grid()\n",
    "plt.savefig(os.path.join(path,'04 Analysis','01 Visualizations','01 Descriptive','Frequency '+list_wastewater_numeric[0]+'.png'),bbox_inches='tight')\n",
    "plt.show();"
   ]
  },
  {
   "cell_type": "code",
   "execution_count": 23,
   "id": "9e9acad4",
   "metadata": {},
   "outputs": [
    {
     "data": {
      "image/png": "[encoded data removed]",
      "text/plain": [
       "<Figure size 432x288 with 1 Axes>"
      ]
     },
     "metadata": {
      "needs_background": "light"
     },
     "output_type": "display_data"
    }
   ],
   "source": [
    "df_wastewater[list_wastewater_numeric[1]].plot.hist(bins = 50)\n",
    "plt.title('Frequency of population')\n",
    "plt.xlabel('Population in 10 millions', labelpad=5)\n",
    "plt.grid()\n",
    "plt.savefig(os.path.join(path,'04 Analysis','01 Visualizations','01 Descriptive','Frequency '+list_wastewater_numeric[1]+'.png'),bbox_inches='tight')\n",
    "plt.show();"
   ]
  },
  {
   "cell_type": "code",
   "execution_count": 24,
   "id": "7ad74ec5",
   "metadata": {},
   "outputs": [
    {
     "data": {
      "text/plain": [
       "cocaine            602\n",
       "MDMA               590\n",
       "methamphetamine    586\n",
       "amphetamine        576\n",
       "cannabis           215\n",
       "Name: metabolite, dtype: Int64"
      ]
     },
     "execution_count": 24,
     "metadata": {},
     "output_type": "execute_result"
    },
    {
     "data": {
      "text/plain": [
       "FR005    50\n",
       "ES005    50\n",
       "HR001    50\n",
       "IT002    50\n",
       "ES002    49\n",
       "NL005    47\n",
       "NL001    46\n",
       "BE002    46\n",
       "ES001    46\n",
       "NO001    43\n",
       "BE005    42\n",
       "CH002    41\n",
       "CH003    41\n",
       "CH008    41\n",
       "CZ002    39\n",
       "FI025    37\n",
       "FI003    37\n",
       "CH001    36\n",
       "DE010    36\n",
       "DE009    36\n",
       "PT002    36\n",
       "DE011    36\n",
       "PT001    36\n",
       "NL002    35\n",
       "GR001    35\n",
       "FI001    32\n",
       "PT003    32\n",
       "ES007    32\n",
       "FI024    32\n",
       "DE026    31\n",
       "CY003    30\n",
       "SK004    29\n",
       "AT004    28\n",
       "IS002    25\n",
       "BE007    25\n",
       "CZ005    25\n",
       "SI003    23\n",
       "DK001    23\n",
       "GB001    22\n",
       "BE001    22\n",
       "CH007    21\n",
       "AT002    20\n",
       "GB002    20\n",
       "AT008    20\n",
       "AT003    20\n",
       "IT001    20\n",
       "LT003    20\n",
       "BE010    20\n",
       "DE012    19\n",
       "DE030    19\n",
       "SI001    19\n",
       "DE008    19\n",
       "PL003    18\n",
       "SI004    18\n",
       "FR003    18\n",
       "FI004    16\n",
       "LT002    16\n",
       "LT001    16\n",
       "FI011    16\n",
       "FI009    16\n",
       "FI005    16\n",
       "SE005    16\n",
       "FI020    16\n",
       "FI022    16\n",
       "FI012    16\n",
       "SK002    16\n",
       "FI013    16\n",
       "DE001    16\n",
       "FI026    16\n",
       "FI016    16\n",
       "CZ001    16\n",
       "AT010    15\n",
       "SE001    15\n",
       "AT005    15\n",
       "SE007    15\n",
       "CZ004    15\n",
       "AT001    15\n",
       "SI006    14\n",
       "SI005    14\n",
       "SI002    14\n",
       "ES003    14\n",
       "TR003    13\n",
       "BE006    13\n",
       "BE009    13\n",
       "BE003    12\n",
       "SE008    12\n",
       "TR001    12\n",
       "CH005    12\n",
       "LV001    12\n",
       "DE023    11\n",
       "DE028    11\n",
       "AT007    10\n",
       "CZ003    10\n",
       "AT011    10\n",
       "SE002    10\n",
       "SE003    10\n",
       "SE004    10\n",
       "RS002     9\n",
       "FR006     9\n",
       "FI014     8\n",
       "ES004     8\n",
       "FI010     8\n",
       "FI018     8\n",
       "FI008     8\n",
       "CH004     8\n",
       "FI015     8\n",
       "FI006     8\n",
       "FI002     8\n",
       "DE017     8\n",
       "FI023     8\n",
       "FI007     8\n",
       "GR002     6\n",
       "AT009     5\n",
       "RS001     5\n",
       "RO001     5\n",
       "BA001     5\n",
       "DE020     4\n",
       "DE033     4\n",
       "DE029     4\n",
       "DE024     4\n",
       "BE004     4\n",
       "DE013     4\n",
       "BE011     4\n",
       "BE008     4\n",
       "CY005     4\n",
       "NL003     4\n",
       "FR004     4\n",
       "FI021     4\n",
       "NL004     4\n",
       "FI027     4\n",
       "CY007     4\n",
       "AT006     4\n",
       "FI019     4\n",
       "FI017     4\n",
       "DK002     4\n",
       "GR003     4\n",
       "ES006     4\n",
       "CY002     4\n",
       "CY001     4\n",
       "MT001     3\n",
       "GR004     2\n",
       "TR002     2\n",
       "EE001     2\n",
       "EE002     2\n",
       "Name: SiteID, dtype: Int64"
      ]
     },
     "execution_count": 24,
     "metadata": {},
     "output_type": "execute_result"
    },
    {
     "data": {
      "text/plain": [
       "FI    386\n",
       "DE    262\n",
       "BE    205\n",
       "ES    203\n",
       "CH    200\n",
       "AT    162\n",
       "NL    136\n",
       "CZ    105\n",
       "PT    104\n",
       "SI    102\n",
       "SE     88\n",
       "FR     81\n",
       "IT     70\n",
       "LT     52\n",
       "HR     50\n",
       "GR     47\n",
       "CY     46\n",
       "SK     45\n",
       "NO     43\n",
       "GB     42\n",
       "TR     27\n",
       "DK     27\n",
       "IS     25\n",
       "PL     18\n",
       "RS     14\n",
       "LV     12\n",
       "BA      5\n",
       "RO      5\n",
       "EE      4\n",
       "MT      3\n",
       "Name: country, dtype: Int64"
      ]
     },
     "execution_count": 24,
     "metadata": {},
     "output_type": "execute_result"
    },
    {
     "data": {
      "text/plain": [
       "Paris Seine Centre        50\n",
       "Santiago                  50\n",
       "Zagreb                    50\n",
       "Milan                     50\n",
       "Castellon                 49\n",
       "Utrecht                   47\n",
       "Amsterdam                 46\n",
       "Antwerp Zuid              46\n",
       "Barcelona                 46\n",
       "Oslo                      43\n",
       "Brussels                  42\n",
       "Berne                     41\n",
       "Geneva                    41\n",
       "Zurich                    41\n",
       "Budweis                   39\n",
       "Turku                     37\n",
       "Helsinki                  37\n",
       "Basel                     36\n",
       "Dresden                   36\n",
       "Dortmund                  36\n",
       "Lisbon                    36\n",
       "Dülmen                    36\n",
       "Almada                    36\n",
       "Eindhoven                 35\n",
       "Athens                    35\n",
       "Espoo                     32\n",
       "Porto                     32\n",
       "Valencia (3)              32\n",
       "Tampere                   32\n",
       "Munich Gut Großlappen     31\n",
       "Limassol                  30\n",
       "Piestany                  29\n",
       "Innsbruck                 28\n",
       "Reykjavik Klettagarðar    25\n",
       "Koksijde                  25\n",
       "Prague (2)                25\n",
       "Ljubljana                 23\n",
       "Copenhagen                23\n",
       "Bristol                   22\n",
       "Antwerp Deurne            22\n",
       "St. Gallen Hofen          21\n",
       "Hall-Wattens              20\n",
       "London                    20\n",
       "Region Millstättersee     20\n",
       "Wasserverband Hofsteig    20\n",
       "Bozen                     20\n",
       "Vilnius                   20\n",
       "Oostende                  20\n",
       "Erfurt                    19\n",
       "Saarbrücken (2)           19\n",
       "Domžale-Kamnik            19\n",
       "Chemnitz                  19\n",
       "Krakow P                  18\n",
       "Maribor                   18\n",
       "Bordeaux I                18\n",
       "Joensuu                   16\n",
       "Klaipeda                  16\n",
       "Kaunas                    16\n",
       "Kuopio                    16\n",
       "Kotka                     16\n",
       "Jyväskylä                 16\n",
       "Stockholm (2)             16\n",
       "Rovaniemi                 16\n",
       "Savonlinna                16\n",
       "Lahti                     16\n",
       "Bratislava C              16\n",
       "Lappeenranta              16\n",
       "Berlin (4)                16\n",
       "Vaasa                     16\n",
       "Oulu                      16\n",
       "Brno                      16\n",
       "Purgstall                 15\n",
       "Gävle                     15\n",
       "Kapfenberg                15\n",
       "Umea                      15\n",
       "Ostrava                   15\n",
       "Graz                      15\n",
       "Velenje                   14\n",
       "Novo mesto                14\n",
       "Koper                     14\n",
       "Madrid VdlV               14\n",
       "Istanbul (II-VII)         13\n",
       "Geraardsbergen            13\n",
       "Ninove                    13\n",
       "Boom                      12\n",
       "Uppsala                   12\n",
       "Adana                     12\n",
       "Lugano                    12\n",
       "Riga                      12\n",
       "Magdeburg                 11\n",
       "Nuremberg                 11\n",
       "Kufstein                  10\n",
       "Karlovy Vary              10\n",
       "Strass im Zillertal       10\n",
       "Gothenburg                10\n",
       "Sandviken                 10\n",
       "Söderhamn                 10\n",
       "Novi Sad                   9\n",
       "Paris South Suburbs        9\n",
       "Mariehamn                  8\n",
       "Molina de Segura           8\n",
       "Kouvola                    8\n",
       "Pori                       8\n",
       "Kokkola                    8\n",
       "Lausanne                   8\n",
       "Mikkeli                    8\n",
       "Kajaani                    8\n",
       "Hämeenlinna                8\n",
       "Hamburg (2)                8\n",
       "Seinäjoki                  8\n",
       "Kemi                       8\n",
       "Eleusis                    6\n",
       "Mürzzuschlag               5\n",
       "Belgrade                   5\n",
       "Cluj Napoca                5\n",
       "Sarajevo                   5\n",
       "Hannover (2)               4\n",
       "Stuttgart                  4\n",
       "Rostock                    4\n",
       "Mainz                      4\n",
       "Brugge                     4\n",
       "Frankfurt (3)              4\n",
       "Ruisbroek (Puurs)          4\n",
       "Merchtem                   4\n",
       "Nicosia (2)                4\n",
       "Nieuwegein Ijssel.         4\n",
       "Fort-de-France P           4\n",
       "Salo                       4\n",
       "Oudewater                  4\n",
       "Vihti                      4\n",
       "Paphos                     4\n",
       "Klosterneuburg             4\n",
       "Rauma                      4\n",
       "Pietarsaari                4\n",
       "Odense                     4\n",
       "Mytilene                   4\n",
       "Tarragona                  4\n",
       "Larnaca                    4\n",
       "Agia Napa                  4\n",
       "Malta                      3\n",
       "Thessaloniki               2\n",
       "Istanbul I                 2\n",
       "Narva                      2\n",
       "Tartu                      2\n",
       "Name: city, dtype: Int64"
      ]
     },
     "execution_count": 24,
     "metadata": {},
     "output_type": "execute_result"
    }
   ],
   "source": [
    "# Due to the amount of different values, I will only save a chart for the drug observations.\n",
    "\n",
    "for i in list_wastewater_written:\n",
    "    df_wastewater[i].value_counts()"
   ]
  },
  {
   "cell_type": "code",
   "execution_count": 25,
   "id": "93434412",
   "metadata": {
    "scrolled": true
   },
   "outputs": [
    {
     "data": {
      "image/png": "[encoded data removed]",
      "text/plain": [
       "<Figure size 432x288 with 1 Axes>"
      ]
     },
     "metadata": {
      "needs_background": "light"
     },
     "output_type": "display_data"
    }
   ],
   "source": [
    "df_wastewater[list_wastewater_written[0]].value_counts().plot.bar()\n",
    "plt.title('Amount of drug observations')\n",
    "plt.grid()\n",
    "plt.savefig(os.path.join(path,'04 Analysis','01 Visualizations','01 Descriptive','Amount '+list_wastewater_written[0]+'.png'),bbox_inches='tight')\n",
    "plt.show();"
   ]
  },
  {
   "cell_type": "code",
   "execution_count": 38,
   "id": "96db4a21",
   "metadata": {},
   "outputs": [],
   "source": [
    "# Exporting the Dataframe\n",
    "\n",
    "df_wastewater.to_pickle(os.path.join(path,'02 Data','02 Prepared Data','df_wastewater_post_6-1.pkl'))\n",
    "df_wastewater.to_csv(os.path.join(path,'02 Data','02 Prepared Data','df_wastewater_post_6-1.csv'))"
   ]
  },
  {
   "cell_type": "markdown",
   "id": "cf05451a",
   "metadata": {},
   "source": [
    "<h2>\n",
    "    <font color=0096FF>\n",
    "        <a href='#start'>4. Questions to Lead the Analysis</a><a id='fourth_chapter'></a>\n",
    "    </font>\n",
    "</h2>"
   ]
  },
  {
   "cell_type": "markdown",
   "id": "3339ba65",
   "metadata": {},
   "source": [
    "<p>\n",
    "    In a nutshell, the first look at the data leaves the following questions for the further analysis:\n",
    "<p>\n",
    "<ul>\n",
    "    <li>\n",
    "        The cannabis consumption seems to be rather low in comparison to the consumption of the other drugs. Where is the cannabis consumption higher than the consumption of the other drugs? What trend can be discovered?\n",
    "    </li>\n",
    "    <li>\n",
    "        Which cities are outliers in the drug consumption?\n",
    "    </li>\n",
    "    <li>\n",
    "        Is there a connection, and how strong is this connection, between the amount of mg/1000p/day in the wastewater and the population of the specific cities?\n",
    "    </li>\n",
    "    <li>\n",
    "        How much is the average difference between weekday and weekend consumption?\n",
    "    </li>\n",
    "    <li>\n",
    "        How did the global pandemic influence the drug consumption?\n",
    "    </li>\n",
    "</ul>\n"
   ]
  },
  {
   "cell_type": "code",
   "execution_count": null,
   "id": "46ce9003",
   "metadata": {},
   "outputs": [],
   "source": []
  }
 ],
 "metadata": {
  "kernelspec": {
   "display_name": "Python 3 (ipykernel)",
   "language": "python",
   "name": "python3"
  },
  "language_info": {
   "codemirror_mode": {
    "name": "ipython",
    "version": 3
   },
   "file_extension": ".py",
   "mimetype": "text/x-python",
   "name": "python",
   "nbconvert_exporter": "python",
   "pygments_lexer": "ipython3",
   "version": "3.9.7"
  }
 },
 "nbformat": 4,
 "nbformat_minor": 5
}
