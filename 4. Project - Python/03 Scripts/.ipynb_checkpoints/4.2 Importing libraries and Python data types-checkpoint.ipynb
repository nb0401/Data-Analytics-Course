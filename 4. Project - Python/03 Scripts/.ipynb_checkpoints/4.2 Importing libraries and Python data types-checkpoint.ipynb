{
 "cells": [
  {
   "cell_type": "markdown",
   "id": "e0d664bc",
   "metadata": {},
   "source": [
    "# 01. Importing Libraries"
   ]
  },
  {
   "cell_type": "code",
   "execution_count": 58,
   "id": "9b1644b4",
   "metadata": {},
   "outputs": [],
   "source": [
    "# Import Libraries\n",
    "\n",
    "import pandas as pd\n",
    "import numpy as np\n",
    "import os"
   ]
  },
  {
   "cell_type": "markdown",
   "id": "481f161d",
   "metadata": {},
   "source": [
    "## 02. Working with data types"
   ]
  },
  {
   "cell_type": "code",
   "execution_count": 59,
   "id": "28085c3c",
   "metadata": {},
   "outputs": [
    {
     "name": "stdout",
     "output_type": "stream",
     "text": [
      "\n",
      "Direction 7:\n",
      "1) 87 + 13 = 100\n",
      "2) 55 + 45 = 100\n",
      "3) 52 + 48 = 100\n",
      "\n",
      "Direction 8:\n",
      "1) 54.04190552843764 / 5.659512241696094 = 9.548862732425484\n",
      "\n",
      "Direction 9:\n",
      "Hello, World!\n",
      "\n",
      "Direction 10:\n",
      "Hello, World!\n",
      "What a great day to learn Python!\n",
      "\n",
      "Bonus Task:\n",
      "This string will appear 100 times! This string will appear 100 times! This string will appear 100 times! This string will appear 100 times! This string will appear 100 times! This string will appear 100 times! This string will appear 100 times! This string will appear 100 times! This string will appear 100 times! This string will appear 100 times! This string will appear 100 times! This string will appear 100 times! This string will appear 100 times! This string will appear 100 times! This string will appear 100 times! This string will appear 100 times! This string will appear 100 times! This string will appear 100 times! This string will appear 100 times! This string will appear 100 times! This string will appear 100 times! This string will appear 100 times! This string will appear 100 times! This string will appear 100 times! This string will appear 100 times! This string will appear 100 times! This string will appear 100 times! This string will appear 100 times! This string will appear 100 times! This string will appear 100 times! This string will appear 100 times! This string will appear 100 times! This string will appear 100 times! This string will appear 100 times! This string will appear 100 times! This string will appear 100 times! This string will appear 100 times! This string will appear 100 times! This string will appear 100 times! This string will appear 100 times! This string will appear 100 times! This string will appear 100 times! This string will appear 100 times! This string will appear 100 times! This string will appear 100 times! This string will appear 100 times! This string will appear 100 times! This string will appear 100 times! This string will appear 100 times! This string will appear 100 times! This string will appear 100 times! This string will appear 100 times! This string will appear 100 times! This string will appear 100 times! This string will appear 100 times! This string will appear 100 times! This string will appear 100 times! This string will appear 100 times! This string will appear 100 times! This string will appear 100 times! This string will appear 100 times! This string will appear 100 times! This string will appear 100 times! This string will appear 100 times! This string will appear 100 times! This string will appear 100 times! This string will appear 100 times! This string will appear 100 times! This string will appear 100 times! This string will appear 100 times! This string will appear 100 times! This string will appear 100 times! This string will appear 100 times! This string will appear 100 times! This string will appear 100 times! This string will appear 100 times! This string will appear 100 times! This string will appear 100 times! This string will appear 100 times! This string will appear 100 times! This string will appear 100 times! This string will appear 100 times! This string will appear 100 times! This string will appear 100 times! This string will appear 100 times! This string will appear 100 times! This string will appear 100 times! This string will appear 100 times! This string will appear 100 times! This string will appear 100 times! This string will appear 100 times! This string will appear 100 times! This string will appear 100 times! This string will appear 100 times! This string will appear 100 times! This string will appear 100 times! This string will appear 100 times! This string will appear 100 times! This string will appear 100 times! This string will appear 100 times! \n"
     ]
    }
   ],
   "source": [
    "# Working with data types\n",
    "\n",
    "print(\"\\nDirection 7:\")\n",
    "\n",
    "for x in range(1,4):\n",
    "    a = random.randint(1, 99)\n",
    "    b = 100-a\n",
    "    c = a + b\n",
    "    print(\"%d) %d + %d = %d\" % (x, a, b, c))\n",
    "\n",
    "\n",
    "\n",
    "print(\"\\nDirection 8:\")\n",
    "    \n",
    "for x in range(1,2):\n",
    "    d = random.uniform(1.0, 10.0)\n",
    "    e = random.uniform(10.0, 100.0)\n",
    "    f = e / d\n",
    "    print(\"%d) %s / %s = %s\" % (x, e, d, f))\n",
    "\n",
    "\n",
    "\n",
    "print(\"\\nDirection 9:\")\n",
    "\n",
    "g = \"Hel\"\n",
    "h = \"lo\"\n",
    "i = \"Wo\"\n",
    "j = \"rld\"\n",
    "\n",
    "print(g + h + \", \" + i + j + \"!\")\n",
    "\n",
    "\n",
    "\n",
    "print(\"\\nDirection 10:\")\n",
    "\n",
    "k = g + h\n",
    "l = i + j\n",
    "m = \", \"\n",
    "\n",
    "n = \"What\"\n",
    "o = \"a\"\n",
    "p = \"great\"\n",
    "q = \"day\"\n",
    "r = \"to\"\n",
    "s = \"learn\"\n",
    "t = \"Python\"\n",
    "\n",
    "print(k + m + l + \"!\")\n",
    "print(n + \" \" + o + \" \" + p + \" \" + q + \" \" + r + \" \" + s + \" \" + t +\"!\")\n",
    "\n",
    "\n",
    "\n",
    "print(\"\\nBonus Task:\")\n",
    "\n",
    "u = \"This string will appear 100 times! \"\n",
    "print(100*u)"
   ]
  },
  {
   "cell_type": "code",
   "execution_count": null,
   "id": "76abc1b4",
   "metadata": {},
   "outputs": [],
   "source": []
  }
 ],
 "metadata": {
  "kernelspec": {
   "display_name": "Python 3 (ipykernel)",
   "language": "python",
   "name": "python3"
  },
  "language_info": {
   "codemirror_mode": {
    "name": "ipython",
    "version": 3
   },
   "file_extension": ".py",
   "mimetype": "text/x-python",
   "name": "python",
   "nbconvert_exporter": "python",
   "pygments_lexer": "ipython3",
   "version": "3.9.7"
  }
 },
 "nbformat": 4,
 "nbformat_minor": 5
}
